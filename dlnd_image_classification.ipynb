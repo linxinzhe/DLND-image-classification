{
 "cells": [
  {
   "cell_type": "markdown",
   "metadata": {
    "collapsed": true,
    "deletable": true,
    "editable": true
   },
   "source": [
    "# Image Classification\n",
    "In this project, you'll classify images from the [CIFAR-10 dataset](https://www.cs.toronto.edu/~kriz/cifar.html).  The dataset consists of airplanes, dogs, cats, and other objects. You'll preprocess the images, then train a convolutional neural network on all the samples. The images need to be normalized and the labels need to be one-hot encoded.  You'll get to apply what you learned and build a convolutional, max pooling, dropout, and fully connected layers.  At the end, you'll get to see your neural network's predictions on the sample images.\n",
    "## Get the Data\n",
    "Run the following cell to download the [CIFAR-10 dataset for python](https://www.cs.toronto.edu/~kriz/cifar-10-python.tar.gz)."
   ]
  },
  {
   "cell_type": "code",
   "execution_count": 1,
   "metadata": {
    "collapsed": false,
    "deletable": true,
    "editable": true
   },
   "outputs": [
    {
     "name": "stdout",
     "output_type": "stream",
     "text": [
      "All files found!\n"
     ]
    }
   ],
   "source": [
    "\"\"\"\n",
    "DON'T MODIFY ANYTHING IN THIS CELL THAT IS BELOW THIS LINE\n",
    "\"\"\"\n",
    "from urllib.request import urlretrieve\n",
    "from os.path import isfile, isdir\n",
    "from tqdm import tqdm\n",
    "import problem_unittests as tests\n",
    "import tarfile\n",
    "\n",
    "cifar10_dataset_folder_path = 'cifar-10-batches-py'\n",
    "\n",
    "class DLProgress(tqdm):\n",
    "    last_block = 0\n",
    "\n",
    "    def hook(self, block_num=1, block_size=1, total_size=None):\n",
    "        self.total = total_size\n",
    "        self.update((block_num - self.last_block) * block_size)\n",
    "        self.last_block = block_num\n",
    "\n",
    "if not isfile('cifar-10-python.tar.gz'):\n",
    "    with DLProgress(unit='B', unit_scale=True, miniters=1, desc='CIFAR-10 Dataset') as pbar:\n",
    "        urlretrieve(\n",
    "            'https://www.cs.toronto.edu/~kriz/cifar-10-python.tar.gz',\n",
    "            'cifar-10-python.tar.gz',\n",
    "            pbar.hook)\n",
    "\n",
    "if not isdir(cifar10_dataset_folder_path):\n",
    "    with tarfile.open('cifar-10-python.tar.gz') as tar:\n",
    "        tar.extractall()\n",
    "        tar.close()\n",
    "\n",
    "\n",
    "tests.test_folder_path(cifar10_dataset_folder_path)"
   ]
  },
  {
   "cell_type": "markdown",
   "metadata": {
    "deletable": true,
    "editable": true
   },
   "source": [
    "## Explore the Data\n",
    "The dataset is broken into batches to prevent your machine from running out of memory.  The CIFAR-10 dataset consists of 5 batches, named `data_batch_1`, `data_batch_2`, etc.. Each batch contains the labels and images that are one of the following:\n",
    "* airplane\n",
    "* automobile\n",
    "* bird\n",
    "* cat\n",
    "* deer\n",
    "* dog\n",
    "* frog\n",
    "* horse\n",
    "* ship\n",
    "* truck\n",
    "\n",
    "Understanding a dataset is part of making predictions on the data.  Play around with the code cell below by changing the `batch_id` and `sample_id`. The `batch_id` is the id for a batch (1-5). The `sample_id` is the id for a image and label pair in the batch.\n",
    "\n",
    "Ask yourself \"What are all possible labels?\", \"What is the range of values for the image data?\", \"Are the labels in order or random?\".  Answers to questions like these will help you preprocess the data and end up with better predictions."
   ]
  },
  {
   "cell_type": "code",
   "execution_count": 2,
   "metadata": {
    "collapsed": false,
    "deletable": true,
    "editable": true
   },
   "outputs": [
    {
     "name": "stdout",
     "output_type": "stream",
     "text": [
      "\n",
      "Stats of batch 3:\n",
      "Samples: 10000\n",
      "Label Counts: {0: 994, 1: 1042, 2: 965, 3: 997, 4: 990, 5: 1029, 6: 978, 7: 1015, 8: 961, 9: 1029}\n",
      "First 20 Labels: [8, 5, 0, 6, 9, 2, 8, 3, 6, 2, 7, 4, 6, 9, 0, 0, 7, 3, 7, 2]\n",
      "\n",
      "Example of Image 7:\n",
      "Image - Min Value: 12 Max Value: 254\n",
      "Image - Shape: (32, 32, 3)\n",
      "Label - Label Id: 3 Name: cat\n"
     ]
    },
    {
     "data": {
      "image/png": "[encoded data removed]",
      "text/plain": [
       "<matplotlib.figure.Figure at 0x7fc424389f28>"
      ]
     },
     "metadata": {
      "image/png": {
       "height": 250.0,
       "width": 253.0
      }
     },
     "output_type": "display_data"
    }
   ],
   "source": [
    "%matplotlib inline\n",
    "%config InlineBackend.figure_format = 'retina'\n",
    "\n",
    "import helper\n",
    "import numpy as np\n",
    "\n",
    "# Explore the dataset\n",
    "batch_id = 3\n",
    "sample_id = 7\n",
    "helper.display_stats(cifar10_dataset_folder_path, batch_id, sample_id)"
   ]
  },
  {
   "cell_type": "markdown",
   "metadata": {
    "deletable": true,
    "editable": true
   },
   "source": [
    "## Implement Preprocess Functions\n",
    "### Normalize\n",
    "In the cell below, implement the `normalize` function to take in image data, `x`, and return it as a normalized Numpy array. The values should be in the range of 0 to 1, inclusive.  The return object should be the same shape as `x`."
   ]
  },
  {
   "cell_type": "code",
   "execution_count": 3,
   "metadata": {
    "collapsed": false,
    "deletable": true,
    "editable": true
   },
   "outputs": [
    {
     "name": "stdout",
     "output_type": "stream",
     "text": [
      "Tests Passed\n"
     ]
    }
   ],
   "source": [
    "def normalize(x):\n",
    "    \"\"\"\n",
    "    Normalize a list of sample image data in the range of 0 to 1\n",
    "    : x: List of image data.  The image shape is (32, 32, 3)\n",
    "    : return: Numpy array of normalize data\n",
    "    \"\"\"\n",
    "    # TODO: Implement Function\n",
    "    max_value=np.max(x)\n",
    "    min_value=np.min(x)\n",
    "    return (x-min_value)/(max_value-min_value) #Siraj's Math Notations\n",
    "\n",
    "\n",
    "\"\"\"\n",
    "DON'T MODIFY ANYTHING IN THIS CELL THAT IS BELOW THIS LINE\n",
    "\"\"\"\n",
    "tests.test_normalize(normalize)"
   ]
  },
  {
   "cell_type": "markdown",
   "metadata": {
    "deletable": true,
    "editable": true
   },
   "source": [
    "### One-hot encode\n",
    "Just like the previous code cell, you'll be implementing a function for preprocessing.  This time, you'll implement the `one_hot_encode` function. The input, `x`, are a list of labels.  Implement the function to return the list of labels as One-Hot encoded Numpy array.  The possible values for labels are 0 to 9. The one-hot encoding function should return the same encoding for each value between each call to `one_hot_encode`.  Make sure to save the map of encodings outside the function.\n",
    "\n",
    "Hint: Don't reinvent the wheel."
   ]
  },
  {
   "cell_type": "code",
   "execution_count": 4,
   "metadata": {
    "collapsed": false,
    "deletable": true,
    "editable": true
   },
   "outputs": [
    {
     "name": "stdout",
     "output_type": "stream",
     "text": [
      "Tests Passed\n"
     ]
    }
   ],
   "source": [
    "def one_hot_encode(x):\n",
    "    \"\"\"\n",
    "    One hot encode a list of sample labels. Return a one-hot encoded vector for each label.\n",
    "    : x: List of sample Labels\n",
    "    : return: Numpy array of one-hot encoded labels\n",
    "    \"\"\"\n",
    "    # TODO: Implement Function\n",
    "    return np.eye(9+1)[x] #...well,I actually reinvented the wheel according to the Andrew Trask's class until someone told me that numpy has a function called eye()....\n",
    "\n",
    "\n",
    "\"\"\"\n",
    "DON'T MODIFY ANYTHING IN THIS CELL THAT IS BELOW THIS LINE\n",
    "\"\"\"\n",
    "tests.test_one_hot_encode(one_hot_encode)"
   ]
  },
  {
   "cell_type": "markdown",
   "metadata": {
    "deletable": true,
    "editable": true
   },
   "source": [
    "### Randomize Data\n",
    "As you saw from exploring the data above, the order of the samples are randomized.  It doesn't hurt to randomize it again, but you don't need to for this dataset."
   ]
  },
  {
   "cell_type": "markdown",
   "metadata": {
    "deletable": true,
    "editable": true
   },
   "source": [
    "## Preprocess all the data and save it\n",
    "Running the code cell below will preprocess all the CIFAR-10 data and save it to file. The code below also uses 10% of the training data for validation."
   ]
  },
  {
   "cell_type": "code",
   "execution_count": 6,
   "metadata": {
    "collapsed": false,
    "deletable": true,
    "editable": true
   },
   "outputs": [],
   "source": [
    "\"\"\"\n",
    "DON'T MODIFY ANYTHING IN THIS CELL\n",
    "\"\"\"\n",
    "# Preprocess Training, Validation, and Testing Data\n",
    "helper.preprocess_and_save_data(cifar10_dataset_folder_path, normalize, one_hot_encode)"
   ]
  },
  {
   "cell_type": "markdown",
   "metadata": {
    "deletable": true,
    "editable": true
   },
   "source": [
    "# Check Point\n",
    "This is your first checkpoint.  If you ever decide to come back to this notebook or have to restart the notebook, you can start from here.  The preprocessed data has been saved to disk."
   ]
  },
  {
   "cell_type": "code",
   "execution_count": 5,
   "metadata": {
    "collapsed": true,
    "deletable": true,
    "editable": true
   },
   "outputs": [],
   "source": [
    "\"\"\"\n",
    "DON'T MODIFY ANYTHING IN THIS CELL\n",
    "\"\"\"\n",
    "import pickle\n",
    "import problem_unittests as tests\n",
    "import helper\n",
    "\n",
    "# Load the Preprocessed Validation data\n",
    "valid_features, valid_labels = pickle.load(open('preprocess_validation.p', mode='rb'))"
   ]
  },
  {
   "cell_type": "markdown",
   "metadata": {
    "deletable": true,
    "editable": true
   },
   "source": [
    "## Build the network\n",
    "For the neural network, you'll build each layer into a function.  Most of the code you've seen has been outside of functions. To test your code more thoroughly, we require that you put each layer in a function.  This allows us to give you better feedback and test for simple mistakes using our unittests before you submit your project.\n",
    "\n",
    "If you're finding it hard to dedicate enough time for this course a week, we've provided a small shortcut to this part of the project. In the next couple of problems, you'll have the option to use [TensorFlow Layers](https://www.tensorflow.org/api_docs/python/tf/layers) or [TensorFlow Layers (contrib)](https://www.tensorflow.org/api_guides/python/contrib.layers) to build each layer, except \"Convolutional & Max Pooling\" layer.  TF Layers is similar to Keras's and TFLearn's abstraction to layers, so it's easy to pickup.\n",
    "\n",
    "If you would like to get the most of this course, try to solve all the problems without TF Layers.  Let's begin!\n",
    "### Input\n",
    "The neural network needs to read the image data, one-hot encoded labels, and dropout keep probability. Implement the following functions\n",
    "* Implement `neural_net_image_input`\n",
    " * Return a [TF Placeholder](https://www.tensorflow.org/api_docs/python/tf/placeholder)\n",
    " * Set the shape using `image_shape` with batch size set to `None`.\n",
    " * Name the TensorFlow placeholder \"x\" using the TensorFlow `name` parameter in the [TF Placeholder](https://www.tensorflow.org/api_docs/python/tf/placeholder).\n",
    "* Implement `neural_net_label_input`\n",
    " * Return a [TF Placeholder](https://www.tensorflow.org/api_docs/python/tf/placeholder)\n",
    " * Set the shape using `n_classes` with batch size set to `None`.\n",
    " * Name the TensorFlow placeholder \"y\" using the TensorFlow `name` parameter in the [TF Placeholder](https://www.tensorflow.org/api_docs/python/tf/placeholder).\n",
    "* Implement `neural_net_keep_prob_input`\n",
    " * Return a [TF Placeholder](https://www.tensorflow.org/api_docs/python/tf/placeholder) for dropout keep probability.\n",
    " * Name the TensorFlow placeholder \"keep_prob\" using the TensorFlow `name` parameter in the [TF Placeholder](https://www.tensorflow.org/api_docs/python/tf/placeholder).\n",
    "\n",
    "These names will be used at the end of the project to load your saved model.\n",
    "\n",
    "Note: `None` for shapes in TensorFlow allow for a dynamic size."
   ]
  },
  {
   "cell_type": "code",
   "execution_count": 6,
   "metadata": {
    "collapsed": false,
    "deletable": true,
    "editable": true
   },
   "outputs": [
    {
     "name": "stdout",
     "output_type": "stream",
     "text": [
      "Image Input Tests Passed.\n",
      "Label Input Tests Passed.\n",
      "Keep Prob Tests Passed.\n"
     ]
    }
   ],
   "source": [
    "import tensorflow as tf\n",
    "\n",
    "def neural_net_image_input(image_shape):\n",
    "    \"\"\"\n",
    "    Return a Tensor for a bach of image input\n",
    "    : image_shape: Shape of the images\n",
    "    : return: Tensor for image input.\n",
    "    \"\"\"\n",
    "    # TODO: Implement Function\n",
    "    return tf.placeholder(tf.float32,shape=[None,image_shape[0],image_shape[1],image_shape[2]],name=\"x\")\n",
    "\n",
    "\n",
    "def neural_net_label_input(n_classes):\n",
    "    \"\"\"\n",
    "    Return a Tensor for a batch of label input\n",
    "    : n_classes: Number of classes\n",
    "    : return: Tensor for label input.\n",
    "    \"\"\"\n",
    "    # TODO: Implement Function\n",
    "    return tf.placeholder(tf.float32,shape=[None,n_classes],name=\"y\")\n",
    "\n",
    "\n",
    "def neural_net_keep_prob_input():\n",
    "    \"\"\"\n",
    "    Return a Tensor for keep probability\n",
    "    : return: Tensor for keep probability.\n",
    "    \"\"\"\n",
    "    # TODO: Implement Function\n",
    "    return tf.placeholder(tf.float32,name=\"keep_prob\")\n",
    "\n",
    "\n",
    "\"\"\"\n",
    "DON'T MODIFY ANYTHING IN THIS CELL THAT IS BELOW THIS LINE\n",
    "\"\"\"\n",
    "tf.reset_default_graph()\n",
    "tests.test_nn_image_inputs(neural_net_image_input)\n",
    "tests.test_nn_label_inputs(neural_net_label_input)\n",
    "tests.test_nn_keep_prob_inputs(neural_net_keep_prob_input)"
   ]
  },
  {
   "cell_type": "markdown",
   "metadata": {
    "deletable": true,
    "editable": true
   },
   "source": [
    "### Convolution and Max Pooling Layer\n",
    "Convolution layers have a lot of success with images. For this code cell, you should implement the function `conv2d_maxpool` to apply convolution then max pooling:\n",
    "* Create the weight and bias using `conv_ksize`, `conv_num_outputs` and the shape of `x_tensor`.\n",
    "* Apply a convolution to `x_tensor` using weight and `conv_strides`.\n",
    " * We recommend you use same padding, but you're welcome to use any padding.\n",
    "* Add bias\n",
    "* Add a nonlinear activation to the convolution.\n",
    "* Apply Max Pooling using `pool_ksize` and `pool_strides`.\n",
    " * We recommend you use same padding, but you're welcome to use any padding.\n",
    "\n",
    "Note: You **can't** use [TensorFlow Layers](https://www.tensorflow.org/api_docs/python/tf/layers) or [TensorFlow Layers (contrib)](https://www.tensorflow.org/api_guides/python/contrib.layers) for this layer.  You're free to use any TensorFlow package for all the other layers."
   ]
  },
  {
   "cell_type": "code",
   "execution_count": 7,
   "metadata": {
    "collapsed": false,
    "deletable": true,
    "editable": true
   },
   "outputs": [
    {
     "name": "stdout",
     "output_type": "stream",
     "text": [
      "Tests Passed\n"
     ]
    }
   ],
   "source": [
    "def conv2d_maxpool(x_tensor, conv_num_outputs, conv_ksize, conv_strides, pool_ksize, pool_strides):\n",
    "    \"\"\"\n",
    "    Apply convolution then max pooling to x_tensor\n",
    "    :param x_tensor: TensorFlow Tensor\n",
    "    :param conv_num_outputs: Number of outputs for the convolutional layer\n",
    "    :param conv_strides: Stride 2-D Tuple for convolution\n",
    "    :param pool_ksize: kernal size 2-D Tuple for pool\n",
    "    :param pool_strides: Stride 2-D Tuple for pool\n",
    "    : return: A tensor that represents convolution and max pooling of x_tensor\n",
    "    \"\"\"\n",
    "    # TODO: Implement Function\n",
    "    depth=x_tensor.get_shape().as_list()[3]\n",
    "    W=tf.Variable(tf.random_normal([conv_ksize[0],conv_ksize[1],depth, conv_num_outputs],stddev=0.1))\n",
    "    b=tf.Variable(tf.random_normal([conv_num_outputs],mean=0.0,stddev=0.01))\n",
    "    \n",
    "    x = tf.nn.conv2d(x_tensor, W, strides=[1,conv_strides[0],conv_strides[1],1], padding='SAME')\n",
    "    x = tf.nn.bias_add(x, b) # 1) Convolution\n",
    "    \n",
    "    x=tf.nn.relu(x, name=None) # 2) Activation\n",
    "    x=tf.nn.max_pool(\n",
    "        x,\n",
    "        ksize=[1,pool_ksize[0],pool_ksize[1],1],\n",
    "        strides=[1,pool_strides[0],pool_strides[1],1],\n",
    "        padding='SAME')  # 3) Max pooling\n",
    "    return x \n",
    "\n",
    "\n",
    "\"\"\"\n",
    "DON'T MODIFY ANYTHING IN THIS CELL THAT IS BELOW THIS LINE\n",
    "\"\"\"\n",
    "tests.test_con_pool(conv2d_maxpool)"
   ]
  },
  {
   "cell_type": "markdown",
   "metadata": {
    "deletable": true,
    "editable": true
   },
   "source": [
    "### Flatten Layer\n",
    "Implement the `flatten` function to change the dimension of `x_tensor` from a 4-D tensor to a 2-D tensor.  The output should be the shape (*Batch Size*, *Flattened Image Size*). You can use [TensorFlow Layers](https://www.tensorflow.org/api_docs/python/tf/layers) or [TensorFlow Layers (contrib)](https://www.tensorflow.org/api_guides/python/contrib.layers) for this layer."
   ]
  },
  {
   "cell_type": "code",
   "execution_count": 8,
   "metadata": {
    "collapsed": false,
    "deletable": true,
    "editable": true
   },
   "outputs": [
    {
     "name": "stdout",
     "output_type": "stream",
     "text": [
      "Tests Passed\n"
     ]
    }
   ],
   "source": [
    "def flatten(x_tensor):\n",
    "    \"\"\"\n",
    "    Flatten x_tensor to (Batch Size, Flattened Image Size)\n",
    "    : x_tensor: A tensor of size (Batch Size, ...), where ... are the image dimensions.\n",
    "    : return: A tensor of size (Batch Size, Flattened Image Size).\n",
    "    \"\"\"\n",
    "    # TODO: Implement Function\n",
    "    shape=x_tensor.get_shape().as_list()\n",
    "    flattened_to_two=np.prod(shape[1:4])\n",
    "    return tf.reshape(x_tensor,[-1, flattened_to_two])\n",
    "\n",
    "\n",
    "\"\"\"\n",
    "DON'T MODIFY ANYTHING IN THIS CELL THAT IS BELOW THIS LINE\n",
    "\"\"\"\n",
    "tests.test_flatten(flatten)"
   ]
  },
  {
   "cell_type": "markdown",
   "metadata": {
    "deletable": true,
    "editable": true
   },
   "source": [
    "### Fully-Connected Layer\n",
    "Implement the `fully_conn` function to apply a fully connected layer to `x_tensor` with the shape (*Batch Size*, *num_outputs*). You can use [TensorFlow Layers](https://www.tensorflow.org/api_docs/python/tf/layers) or [TensorFlow Layers (contrib)](https://www.tensorflow.org/api_guides/python/contrib.layers) for this layer."
   ]
  },
  {
   "cell_type": "code",
   "execution_count": 9,
   "metadata": {
    "collapsed": false,
    "deletable": true,
    "editable": true
   },
   "outputs": [
    {
     "name": "stdout",
     "output_type": "stream",
     "text": [
      "Tests Passed\n"
     ]
    }
   ],
   "source": [
    "def fully_conn(x_tensor, num_outputs):\n",
    "    \"\"\"\n",
    "    Apply a fully connected layer to x_tensor using weight and bias\n",
    "    : x_tensor: A 2-D tensor where the first dimension is batch size.\n",
    "    : num_outputs: The number of output that the new tensor should be.\n",
    "    : return: A 2-D tensor where the second dimension is num_outputs.\n",
    "    \"\"\"\n",
    "    # TODO: Implement Function\n",
    "    shape=x_tensor.get_shape().as_list() # 2dim\n",
    "    \n",
    "    weights = {\n",
    "    'fc': tf.Variable(tf.random_normal([shape[1],num_outputs],stddev=0.1))}\n",
    "    \n",
    "    biases = {\n",
    "    'fc': tf.Variable(tf.random_normal([num_outputs],mean=0.0,stddev=0.01))}\n",
    "    \n",
    "    fc=tf.add(tf.matmul(x_tensor,weights['fc']), biases['fc'])\n",
    "    fc=tf.nn.relu(fc)\n",
    "    return fc\n",
    "\n",
    "\n",
    "\"\"\"\n",
    "DON'T MODIFY ANYTHING IN THIS CELL THAT IS BELOW THIS LINE\n",
    "\"\"\"\n",
    "tests.test_fully_conn(fully_conn)"
   ]
  },
  {
   "cell_type": "markdown",
   "metadata": {
    "deletable": true,
    "editable": true
   },
   "source": [
    "### Output Layer\n",
    "Implement the `output` function to apply a fully connected layer to `x_tensor` with the shape (*Batch Size*, *num_outputs*). You can use [TensorFlow Layers](https://www.tensorflow.org/api_docs/python/tf/layers) or [TensorFlow Layers (contrib)](https://www.tensorflow.org/api_guides/python/contrib.layers) for this layer.\n",
    "\n",
    "Note: Activation, softmax, or cross entropy shouldn't be applied to this."
   ]
  },
  {
   "cell_type": "code",
   "execution_count": 10,
   "metadata": {
    "collapsed": false,
    "deletable": true,
    "editable": true
   },
   "outputs": [
    {
     "name": "stdout",
     "output_type": "stream",
     "text": [
      "Tests Passed\n"
     ]
    }
   ],
   "source": [
    "def output(x_tensor, num_outputs):\n",
    "    \"\"\"\n",
    "    Apply a output layer to x_tensor using weight and bias\n",
    "    : x_tensor: A 2-D tensor where the first dimension is batch size.\n",
    "    : num_outputs: The number of output that the new tensor should be.\n",
    "    : return: A 2-D tensor where the second dimension is num_outputs.\n",
    "    \"\"\"\n",
    "    # TODO: Implement Function\n",
    "    shape=x_tensor.get_shape().as_list() # 2dim\n",
    "    \n",
    "    weights = {\n",
    "    'out': tf.Variable(tf.random_normal([shape[1],num_outputs]))}\n",
    "    \n",
    "    biases = {\n",
    "    'out': tf.Variable(tf.random_normal([num_outputs]))}\n",
    "    \n",
    "    out=tf.add(tf.matmul(x_tensor,weights['out']), biases['out'])\n",
    "    return out\n",
    "\n",
    "\n",
    "\"\"\"\n",
    "DON'T MODIFY ANYTHING IN THIS CELL THAT IS BELOW THIS LINE\n",
    "\"\"\"\n",
    "tests.test_output(output)"
   ]
  },
  {
   "cell_type": "markdown",
   "metadata": {
    "deletable": true,
    "editable": true
   },
   "source": [
    "### Create Convolutional Model\n",
    "Implement the function `conv_net` to create a convolutional neural network model. The function takes in a batch of images, `x`, and outputs logits.  Use the layers you created above to create this model:\n",
    "\n",
    "* Apply 1, 2, or 3 Convolution and Max Pool layers\n",
    "* Apply a Flatten Layer\n",
    "* Apply 1, 2, or 3 Fully Connected Layers\n",
    "* Apply an Output Layer\n",
    "* Return the output\n",
    "* Apply [TensorFlow's Dropout](https://www.tensorflow.org/api_docs/python/tf/nn/dropout) to one or more layers in the model using `keep_prob`. "
   ]
  },
  {
   "cell_type": "code",
   "execution_count": 11,
   "metadata": {
    "collapsed": false,
    "deletable": true,
    "editable": true
   },
   "outputs": [
    {
     "name": "stdout",
     "output_type": "stream",
     "text": [
      "Neural Network Built!\n"
     ]
    }
   ],
   "source": [
    "def conv_net(x, keep_prob):\n",
    "    \"\"\"\n",
    "    Create a convolutional neural network model\n",
    "    : x: Placeholder tensor that holds image data.\n",
    "    : keep_prob: Placeholder tensor that hold dropout keep probability.\n",
    "    : return: Tensor that represents logits\n",
    "    \"\"\"\n",
    "    # TODO: Apply 1, 2, or 3 Convolution and Max Pool layers\n",
    "    #    Play around with different number of outputs, kernel size and stride\n",
    "    # Function Definition from Above:\n",
    "    #    conv2d_maxpool(x_tensor, conv_num_outputs, conv_ksize, conv_strides, pool_ksize, pool_strides)\n",
    "    x_tensor=x\n",
    "    conv_num_outputs=9\n",
    "    conv_ksize=[3,3]\n",
    "    conv_strides=[1,1]\n",
    "    pool_ksize=[2,2]\n",
    "    pool_strides=[2,2]\n",
    "    \n",
    "    cv1=conv2d_maxpool(x_tensor,conv_num_outputs,conv_ksize,conv_strides,pool_ksize,pool_strides)\n",
    "#     cv1=tf.nn.dropout(cv1,keep_prob=keep_prob)\n",
    "    cv2=conv2d_maxpool(cv1,conv_num_outputs*2,conv_ksize,conv_strides,pool_ksize,pool_strides)\n",
    "    cv2=tf.nn.dropout(cv2,keep_prob=keep_prob)\n",
    "    \n",
    "    cv=cv2\n",
    "    # TODO: Apply a Flatten Layer\n",
    "    # Function Definition from Above:\n",
    "    #   flatten(x_tensor)\n",
    "    ft=flatten(cv)\n",
    "\n",
    "    # TODO: Apply 1, 2, or 3 Fully Connected Layers\n",
    "    #    Play around with different number of outputs\n",
    "    # Function Definition from Above:\n",
    "    #   fully_conn(x_tensor, num_outputs)\n",
    "    num_outputs=60\n",
    "    fc1=fully_conn(ft,num_outputs)\n",
    "    fc1=tf.nn.dropout(fc1,keep_prob=keep_prob)\n",
    "    fc2=fully_conn(fc1,num_outputs//2)\n",
    "    fc2=tf.nn.dropout(fc2,keep_prob=keep_prob)\n",
    "    \n",
    "    fc=fc2\n",
    "    # TODO: Apply an Output Layer\n",
    "    #    Set this to the number of classes\n",
    "    # Function Definition from Above:\n",
    "    #   output(x_tensor, num_outputs)\n",
    "    \n",
    "    out=output(fc, 10)\n",
    "    \n",
    "    # TODO: return output\n",
    "    return out\n",
    "\n",
    "\n",
    "\"\"\"\n",
    "DON'T MODIFY ANYTHING IN THIS CELL THAT IS BELOW THIS LINE\n",
    "\"\"\"\n",
    "\n",
    "##############################\n",
    "## Build the Neural Network ##\n",
    "##############################\n",
    "\n",
    "# Remove previous weights, bias, inputs, etc..\n",
    "tf.reset_default_graph()\n",
    "\n",
    "# Inputs\n",
    "x = neural_net_image_input((32, 32, 3))\n",
    "y = neural_net_label_input(10)\n",
    "keep_prob = neural_net_keep_prob_input()\n",
    "\n",
    "# Model\n",
    "logits = conv_net(x, keep_prob)\n",
    "\n",
    "# Name logits Tensor, so that is can be loaded from disk after training\n",
    "logits = tf.identity(logits, name='logits')\n",
    "\n",
    "# Loss and Optimizer\n",
    "cost = tf.reduce_mean(tf.nn.softmax_cross_entropy_with_logits(logits=logits, labels=y))\n",
    "optimizer = tf.train.AdamOptimizer().minimize(cost)\n",
    "\n",
    "# Accuracy\n",
    "correct_pred = tf.equal(tf.argmax(logits, 1), tf.argmax(y, 1))\n",
    "accuracy = tf.reduce_mean(tf.cast(correct_pred, tf.float32), name='accuracy')\n",
    "\n",
    "tests.test_conv_net(conv_net)"
   ]
  },
  {
   "cell_type": "markdown",
   "metadata": {
    "deletable": true,
    "editable": true
   },
   "source": [
    "## Train the Neural Network\n",
    "### Single Optimization\n",
    "Implement the function `train_neural_network` to do a single optimization.  The optimization should use `optimizer` to optimize in `session` with a `feed_dict` of the following:\n",
    "* `x` for image input\n",
    "* `y` for labels\n",
    "* `keep_prob` for keep probability for dropout\n",
    "\n",
    "This function will be called for each batch, so `tf.global_variables_initializer()` has already been called.\n",
    "\n",
    "Note: Nothing needs to be returned. This function is only optimizing the neural network."
   ]
  },
  {
   "cell_type": "code",
   "execution_count": 12,
   "metadata": {
    "collapsed": false,
    "deletable": true,
    "editable": true
   },
   "outputs": [
    {
     "name": "stdout",
     "output_type": "stream",
     "text": [
      "Tests Passed\n"
     ]
    }
   ],
   "source": [
    "def train_neural_network(session, optimizer, keep_probability, feature_batch, label_batch):\n",
    "    \"\"\"\n",
    "    Optimize the session on a batch of images and labels\n",
    "    : session: Current TensorFlow session\n",
    "    : optimizer: TensorFlow optimizer function\n",
    "    : keep_probability: keep probability\n",
    "    : feature_batch: Batch of Numpy image data\n",
    "    : label_batch: Batch of Numpy label data\n",
    "    \"\"\"\n",
    "    # TODO: Implement Function\n",
    "    session.run(optimizer,\n",
    "                feed_dict={\n",
    "                    keep_prob:keep_probability,\n",
    "                    x:feature_batch,\n",
    "                    y:label_batch\n",
    "                }\n",
    "               )\n",
    "\n",
    "\n",
    "\"\"\"\n",
    "DON'T MODIFY ANYTHING IN THIS CELL THAT IS BELOW THIS LINE\n",
    "\"\"\"\n",
    "tests.test_train_nn(train_neural_network)"
   ]
  },
  {
   "cell_type": "markdown",
   "metadata": {
    "deletable": true,
    "editable": true
   },
   "source": [
    "### Show Stats\n",
    "Implement the function `print_stats` to print loss and validation accuracy.  Use the global variables `valid_features` and `valid_labels` to calculate validation accuracy.  Use a keep probability of `1.0` to calculate the loss and validation accuracy."
   ]
  },
  {
   "cell_type": "code",
   "execution_count": 13,
   "metadata": {
    "collapsed": false,
    "deletable": true,
    "editable": true
   },
   "outputs": [],
   "source": [
    "def print_stats(session, feature_batch, label_batch, cost, accuracy):\n",
    "    \"\"\"\n",
    "    Print information about loss and validation accuracy\n",
    "    : session: Current TensorFlow session\n",
    "    : feature_batch: Batch of Numpy image data\n",
    "    : label_batch: Batch of Numpy label data\n",
    "    : cost: TensorFlow cost function\n",
    "    : accuracy: TensorFlow accuracy function\n",
    "    \"\"\"\n",
    "    # TODO: Implement Function\n",
    "    loss=sess.run(cost, feed_dict={\n",
    "                x:feature_batch,\n",
    "                y:label_batch,\n",
    "                keep_prob: 1.})\n",
    "    \n",
    "    global valid_features, valid_labels\n",
    "    valid_acc=sess.run(accuracy, feed_dict={\n",
    "                x:valid_features,\n",
    "                y:valid_labels,\n",
    "                keep_prob: 1.})\n",
    "    \n",
    "    print('Loss: {:>10.4f} Validation Accuracy: {:.6f}'.format(\n",
    "                loss,\n",
    "                valid_acc))"
   ]
  },
  {
   "cell_type": "markdown",
   "metadata": {
    "deletable": true,
    "editable": true
   },
   "source": [
    "### Hyperparameters\n",
    "Tune the following parameters:\n",
    "* Set `epochs` to the number of iterations until the network stops learning or start overfitting\n",
    "* Set `batch_size` to the highest number that your machine has memory for.  Most people set them to common sizes of memory:\n",
    " * 64\n",
    " * 128\n",
    " * 256\n",
    " * ...\n",
    "* Set `keep_probability` to the probability of keeping a node using dropout"
   ]
  },
  {
   "cell_type": "code",
   "execution_count": 22,
   "metadata": {
    "collapsed": true,
    "deletable": true,
    "editable": true
   },
   "outputs": [],
   "source": [
    "# TODO: Tune Parameters\n",
    "epochs = 50 \n",
    "batch_size = 256\n",
    "keep_probability = 0.5"
   ]
  },
  {
   "cell_type": "markdown",
   "metadata": {
    "deletable": true,
    "editable": true
   },
   "source": [
    "### Train on a Single CIFAR-10 Batch\n",
    "Instead of training the neural network on all the CIFAR-10 batches of data, let's use a single batch. This should save time while you iterate on the model to get a better accuracy.  Once the final validation accuracy is 50% or greater, run the model on all the data in the next section."
   ]
  },
  {
   "cell_type": "code",
   "execution_count": 23,
   "metadata": {
    "collapsed": false,
    "deletable": true,
    "editable": true
   },
   "outputs": [
    {
     "name": "stdout",
     "output_type": "stream",
     "text": [
      "Checking the Training on a Single Batch...\n",
      "Epoch  1, CIFAR-10 Batch 1:  Loss:     2.3080 Validation Accuracy: 0.100200\n",
      "Epoch  2, CIFAR-10 Batch 1:  Loss:     2.2671 Validation Accuracy: 0.136600\n",
      "Epoch  3, CIFAR-10 Batch 1:  Loss:     2.1978 Validation Accuracy: 0.163000\n",
      "Epoch  4, CIFAR-10 Batch 1:  Loss:     2.1212 Validation Accuracy: 0.218000\n",
      "Epoch  5, CIFAR-10 Batch 1:  Loss:     2.1128 Validation Accuracy: 0.210400\n",
      "Epoch  6, CIFAR-10 Batch 1:  Loss:     2.0595 Validation Accuracy: 0.260200\n",
      "Epoch  7, CIFAR-10 Batch 1:  Loss:     2.0064 Validation Accuracy: 0.288200\n",
      "Epoch  8, CIFAR-10 Batch 1:  Loss:     1.9587 Validation Accuracy: 0.292000\n",
      "Epoch  9, CIFAR-10 Batch 1:  Loss:     1.9378 Validation Accuracy: 0.314200\n",
      "Epoch 10, CIFAR-10 Batch 1:  Loss:     1.8656 Validation Accuracy: 0.325800\n",
      "Epoch 11, CIFAR-10 Batch 1:  Loss:     1.8353 Validation Accuracy: 0.327000\n",
      "Epoch 12, CIFAR-10 Batch 1:  Loss:     1.7591 Validation Accuracy: 0.380400\n",
      "Epoch 13, CIFAR-10 Batch 1:  Loss:     1.7141 Validation Accuracy: 0.387400\n",
      "Epoch 14, CIFAR-10 Batch 1:  Loss:     1.6635 Validation Accuracy: 0.393400\n",
      "Epoch 15, CIFAR-10 Batch 1:  Loss:     1.6416 Validation Accuracy: 0.395200\n",
      "Epoch 16, CIFAR-10 Batch 1:  Loss:     1.6170 Validation Accuracy: 0.423200\n",
      "Epoch 17, CIFAR-10 Batch 1:  Loss:     1.5872 Validation Accuracy: 0.424000\n",
      "Epoch 18, CIFAR-10 Batch 1:  Loss:     1.5585 Validation Accuracy: 0.413000\n",
      "Epoch 19, CIFAR-10 Batch 1:  Loss:     1.5069 Validation Accuracy: 0.418800\n",
      "Epoch 20, CIFAR-10 Batch 1:  Loss:     1.4760 Validation Accuracy: 0.407400\n",
      "Epoch 21, CIFAR-10 Batch 1:  Loss:     1.4517 Validation Accuracy: 0.435600\n",
      "Epoch 22, CIFAR-10 Batch 1:  Loss:     1.4501 Validation Accuracy: 0.409400\n",
      "Epoch 23, CIFAR-10 Batch 1:  Loss:     1.3862 Validation Accuracy: 0.454600\n",
      "Epoch 24, CIFAR-10 Batch 1:  Loss:     1.3977 Validation Accuracy: 0.429800\n",
      "Epoch 25, CIFAR-10 Batch 1:  Loss:     1.3807 Validation Accuracy: 0.434600\n",
      "Epoch 26, CIFAR-10 Batch 1:  Loss:     1.3421 Validation Accuracy: 0.440400\n",
      "Epoch 27, CIFAR-10 Batch 1:  Loss:     1.2814 Validation Accuracy: 0.457400\n",
      "Epoch 28, CIFAR-10 Batch 1:  Loss:     1.2871 Validation Accuracy: 0.462400\n",
      "Epoch 29, CIFAR-10 Batch 1:  Loss:     1.2273 Validation Accuracy: 0.458000\n",
      "Epoch 30, CIFAR-10 Batch 1:  Loss:     1.2129 Validation Accuracy: 0.477400\n",
      "Epoch 31, CIFAR-10 Batch 1:  Loss:     1.1986 Validation Accuracy: 0.469600\n",
      "Epoch 32, CIFAR-10 Batch 1:  Loss:     1.1931 Validation Accuracy: 0.445200\n",
      "Epoch 33, CIFAR-10 Batch 1:  Loss:     1.1718 Validation Accuracy: 0.468200\n",
      "Epoch 34, CIFAR-10 Batch 1:  Loss:     1.2422 Validation Accuracy: 0.455600\n",
      "Epoch 35, CIFAR-10 Batch 1:  Loss:     1.1295 Validation Accuracy: 0.482800\n",
      "Epoch 36, CIFAR-10 Batch 1:  Loss:     1.0952 Validation Accuracy: 0.469600\n",
      "Epoch 37, CIFAR-10 Batch 1:  Loss:     1.0772 Validation Accuracy: 0.478000\n",
      "Epoch 38, CIFAR-10 Batch 1:  Loss:     1.0585 Validation Accuracy: 0.484800\n",
      "Epoch 39, CIFAR-10 Batch 1:  Loss:     1.0528 Validation Accuracy: 0.462000\n",
      "Epoch 40, CIFAR-10 Batch 1:  Loss:     1.0708 Validation Accuracy: 0.493600\n",
      "Epoch 41, CIFAR-10 Batch 1:  Loss:     1.0516 Validation Accuracy: 0.481000\n",
      "Epoch 42, CIFAR-10 Batch 1:  Loss:     1.0663 Validation Accuracy: 0.469000\n",
      "Epoch 43, CIFAR-10 Batch 1:  Loss:     1.0088 Validation Accuracy: 0.485800\n",
      "Epoch 44, CIFAR-10 Batch 1:  Loss:     0.9963 Validation Accuracy: 0.476400\n",
      "Epoch 45, CIFAR-10 Batch 1:  Loss:     1.0106 Validation Accuracy: 0.463400\n",
      "Epoch 46, CIFAR-10 Batch 1:  Loss:     0.9773 Validation Accuracy: 0.484000\n",
      "Epoch 47, CIFAR-10 Batch 1:  Loss:     0.9715 Validation Accuracy: 0.487200\n",
      "Epoch 48, CIFAR-10 Batch 1:  Loss:     0.9883 Validation Accuracy: 0.496200\n",
      "Epoch 49, CIFAR-10 Batch 1:  Loss:     0.9752 Validation Accuracy: 0.490400\n",
      "Epoch 50, CIFAR-10 Batch 1:  Loss:     0.9408 Validation Accuracy: 0.509400\n"
     ]
    }
   ],
   "source": [
    "\"\"\"\n",
    "DON'T MODIFY ANYTHING IN THIS CELL\n",
    "\"\"\"\n",
    "print('Checking the Training on a Single Batch...')\n",
    "with tf.Session() as sess:\n",
    "    # Initializing the variables\n",
    "    sess.run(tf.global_variables_initializer())\n",
    "    \n",
    "    # Training cycle\n",
    "    for epoch in range(epochs):\n",
    "        batch_i = 1\n",
    "        for batch_features, batch_labels in helper.load_preprocess_training_batch(batch_i, batch_size):\n",
    "            train_neural_network(sess, optimizer, keep_probability, batch_features, batch_labels)\n",
    "        print('Epoch {:>2}, CIFAR-10 Batch {}:  '.format(epoch + 1, batch_i), end='')\n",
    "        print_stats(sess, batch_features, batch_labels, cost, accuracy)"
   ]
  },
  {
   "cell_type": "markdown",
   "metadata": {
    "deletable": true,
    "editable": true
   },
   "source": [
    "### Fully Train the Model\n",
    "Now that you got a good accuracy with a single CIFAR-10 batch, try it with all five batches."
   ]
  },
  {
   "cell_type": "code",
   "execution_count": 24,
   "metadata": {
    "collapsed": false,
    "deletable": true,
    "editable": true
   },
   "outputs": [
    {
     "name": "stdout",
     "output_type": "stream",
     "text": [
      "Training...\n",
      "Epoch  1, CIFAR-10 Batch 1:  Loss:     2.4345 Validation Accuracy: 0.103400\n",
      "Epoch  1, CIFAR-10 Batch 2:  Loss:     2.4453 Validation Accuracy: 0.103000\n",
      "Epoch  1, CIFAR-10 Batch 3:  Loss:     2.3698 Validation Accuracy: 0.103200\n",
      "Epoch  1, CIFAR-10 Batch 4:  Loss:     2.4446 Validation Accuracy: 0.104200\n",
      "Epoch  1, CIFAR-10 Batch 5:  Loss:     2.3818 Validation Accuracy: 0.103600\n",
      "Epoch  2, CIFAR-10 Batch 1:  Loss:     2.2648 Validation Accuracy: 0.121200\n",
      "Epoch  2, CIFAR-10 Batch 2:  Loss:     2.2119 Validation Accuracy: 0.191200\n",
      "Epoch  2, CIFAR-10 Batch 3:  Loss:     2.1736 Validation Accuracy: 0.233800\n",
      "Epoch  2, CIFAR-10 Batch 4:  Loss:     2.1191 Validation Accuracy: 0.232600\n",
      "Epoch  2, CIFAR-10 Batch 5:  Loss:     2.1435 Validation Accuracy: 0.242200\n",
      "Epoch  3, CIFAR-10 Batch 1:  Loss:     2.1593 Validation Accuracy: 0.261000\n",
      "Epoch  3, CIFAR-10 Batch 2:  Loss:     2.1255 Validation Accuracy: 0.272200\n",
      "Epoch  3, CIFAR-10 Batch 3:  Loss:     2.0455 Validation Accuracy: 0.286800\n",
      "Epoch  3, CIFAR-10 Batch 4:  Loss:     1.9444 Validation Accuracy: 0.284400\n",
      "Epoch  3, CIFAR-10 Batch 5:  Loss:     1.9770 Validation Accuracy: 0.301000\n",
      "Epoch  4, CIFAR-10 Batch 1:  Loss:     2.0813 Validation Accuracy: 0.312400\n",
      "Epoch  4, CIFAR-10 Batch 2:  Loss:     1.9965 Validation Accuracy: 0.325000\n",
      "Epoch  4, CIFAR-10 Batch 3:  Loss:     1.8745 Validation Accuracy: 0.337200\n",
      "Epoch  4, CIFAR-10 Batch 4:  Loss:     1.8150 Validation Accuracy: 0.317600\n",
      "Epoch  4, CIFAR-10 Batch 5:  Loss:     1.8474 Validation Accuracy: 0.325800\n",
      "Epoch  5, CIFAR-10 Batch 1:  Loss:     1.9993 Validation Accuracy: 0.355400\n",
      "Epoch  5, CIFAR-10 Batch 2:  Loss:     1.8836 Validation Accuracy: 0.345800\n",
      "Epoch  5, CIFAR-10 Batch 3:  Loss:     1.7887 Validation Accuracy: 0.380600\n",
      "Epoch  5, CIFAR-10 Batch 4:  Loss:     1.6956 Validation Accuracy: 0.383800\n",
      "Epoch  5, CIFAR-10 Batch 5:  Loss:     1.7696 Validation Accuracy: 0.391000\n",
      "Epoch  6, CIFAR-10 Batch 1:  Loss:     1.8777 Validation Accuracy: 0.392000\n",
      "Epoch  6, CIFAR-10 Batch 2:  Loss:     1.7886 Validation Accuracy: 0.365000\n",
      "Epoch  6, CIFAR-10 Batch 3:  Loss:     1.7098 Validation Accuracy: 0.396200\n",
      "Epoch  6, CIFAR-10 Batch 4:  Loss:     1.6478 Validation Accuracy: 0.414400\n",
      "Epoch  6, CIFAR-10 Batch 5:  Loss:     1.7179 Validation Accuracy: 0.411400\n",
      "Epoch  7, CIFAR-10 Batch 1:  Loss:     1.8255 Validation Accuracy: 0.423200\n",
      "Epoch  7, CIFAR-10 Batch 2:  Loss:     1.7181 Validation Accuracy: 0.430200\n",
      "Epoch  7, CIFAR-10 Batch 3:  Loss:     1.5946 Validation Accuracy: 0.433200\n",
      "Epoch  7, CIFAR-10 Batch 4:  Loss:     1.5865 Validation Accuracy: 0.441400\n",
      "Epoch  7, CIFAR-10 Batch 5:  Loss:     1.6500 Validation Accuracy: 0.438200\n",
      "Epoch  8, CIFAR-10 Batch 1:  Loss:     1.7363 Validation Accuracy: 0.451000\n",
      "Epoch  8, CIFAR-10 Batch 2:  Loss:     1.6374 Validation Accuracy: 0.436600\n",
      "Epoch  8, CIFAR-10 Batch 3:  Loss:     1.5335 Validation Accuracy: 0.456200\n",
      "Epoch  8, CIFAR-10 Batch 4:  Loss:     1.4900 Validation Accuracy: 0.458600\n",
      "Epoch  8, CIFAR-10 Batch 5:  Loss:     1.6247 Validation Accuracy: 0.461600\n",
      "Epoch  9, CIFAR-10 Batch 1:  Loss:     1.6550 Validation Accuracy: 0.456200\n",
      "Epoch  9, CIFAR-10 Batch 2:  Loss:     1.5846 Validation Accuracy: 0.459600\n",
      "Epoch  9, CIFAR-10 Batch 3:  Loss:     1.4942 Validation Accuracy: 0.464600\n",
      "Epoch  9, CIFAR-10 Batch 4:  Loss:     1.4502 Validation Accuracy: 0.475200\n",
      "Epoch  9, CIFAR-10 Batch 5:  Loss:     1.5699 Validation Accuracy: 0.474000\n",
      "Epoch 10, CIFAR-10 Batch 1:  Loss:     1.5812 Validation Accuracy: 0.485200\n",
      "Epoch 10, CIFAR-10 Batch 2:  Loss:     1.5111 Validation Accuracy: 0.475600\n",
      "Epoch 10, CIFAR-10 Batch 3:  Loss:     1.4270 Validation Accuracy: 0.487600\n",
      "Epoch 10, CIFAR-10 Batch 4:  Loss:     1.4204 Validation Accuracy: 0.490800\n",
      "Epoch 10, CIFAR-10 Batch 5:  Loss:     1.5478 Validation Accuracy: 0.488200\n",
      "Epoch 11, CIFAR-10 Batch 1:  Loss:     1.5239 Validation Accuracy: 0.491400\n",
      "Epoch 11, CIFAR-10 Batch 2:  Loss:     1.4546 Validation Accuracy: 0.487800\n",
      "Epoch 11, CIFAR-10 Batch 3:  Loss:     1.3416 Validation Accuracy: 0.500200\n",
      "Epoch 11, CIFAR-10 Batch 4:  Loss:     1.3524 Validation Accuracy: 0.500200\n",
      "Epoch 11, CIFAR-10 Batch 5:  Loss:     1.5449 Validation Accuracy: 0.497600\n",
      "Epoch 12, CIFAR-10 Batch 1:  Loss:     1.4949 Validation Accuracy: 0.494200\n",
      "Epoch 12, CIFAR-10 Batch 2:  Loss:     1.4129 Validation Accuracy: 0.499400\n",
      "Epoch 12, CIFAR-10 Batch 3:  Loss:     1.3086 Validation Accuracy: 0.507000\n",
      "Epoch 12, CIFAR-10 Batch 4:  Loss:     1.3213 Validation Accuracy: 0.520600\n",
      "Epoch 12, CIFAR-10 Batch 5:  Loss:     1.4953 Validation Accuracy: 0.510400\n",
      "Epoch 13, CIFAR-10 Batch 1:  Loss:     1.4509 Validation Accuracy: 0.517200\n",
      "Epoch 13, CIFAR-10 Batch 2:  Loss:     1.3892 Validation Accuracy: 0.511400\n",
      "Epoch 13, CIFAR-10 Batch 3:  Loss:     1.2485 Validation Accuracy: 0.511000\n",
      "Epoch 13, CIFAR-10 Batch 4:  Loss:     1.2916 Validation Accuracy: 0.529000\n",
      "Epoch 13, CIFAR-10 Batch 5:  Loss:     1.4192 Validation Accuracy: 0.523200\n",
      "Epoch 14, CIFAR-10 Batch 1:  Loss:     1.4260 Validation Accuracy: 0.517200\n",
      "Epoch 14, CIFAR-10 Batch 2:  Loss:     1.3813 Validation Accuracy: 0.516200\n",
      "Epoch 14, CIFAR-10 Batch 3:  Loss:     1.1776 Validation Accuracy: 0.518800\n",
      "Epoch 14, CIFAR-10 Batch 4:  Loss:     1.2603 Validation Accuracy: 0.526000\n",
      "Epoch 14, CIFAR-10 Batch 5:  Loss:     1.4934 Validation Accuracy: 0.508200\n",
      "Epoch 15, CIFAR-10 Batch 1:  Loss:     1.3644 Validation Accuracy: 0.536600\n",
      "Epoch 15, CIFAR-10 Batch 2:  Loss:     1.2463 Validation Accuracy: 0.535600\n",
      "Epoch 15, CIFAR-10 Batch 3:  Loss:     1.1439 Validation Accuracy: 0.533400\n",
      "Epoch 15, CIFAR-10 Batch 4:  Loss:     1.2605 Validation Accuracy: 0.526200\n",
      "Epoch 15, CIFAR-10 Batch 5:  Loss:     1.3705 Validation Accuracy: 0.524800\n",
      "Epoch 16, CIFAR-10 Batch 1:  Loss:     1.3186 Validation Accuracy: 0.537400\n",
      "Epoch 16, CIFAR-10 Batch 2:  Loss:     1.2728 Validation Accuracy: 0.539600\n",
      "Epoch 16, CIFAR-10 Batch 3:  Loss:     1.0948 Validation Accuracy: 0.523200\n",
      "Epoch 16, CIFAR-10 Batch 4:  Loss:     1.1719 Validation Accuracy: 0.540600\n",
      "Epoch 16, CIFAR-10 Batch 5:  Loss:     1.2925 Validation Accuracy: 0.548000\n",
      "Epoch 17, CIFAR-10 Batch 1:  Loss:     1.3278 Validation Accuracy: 0.547000\n",
      "Epoch 17, CIFAR-10 Batch 2:  Loss:     1.1907 Validation Accuracy: 0.545400\n",
      "Epoch 17, CIFAR-10 Batch 3:  Loss:     1.0745 Validation Accuracy: 0.549200\n",
      "Epoch 17, CIFAR-10 Batch 4:  Loss:     1.1715 Validation Accuracy: 0.547800\n",
      "Epoch 17, CIFAR-10 Batch 5:  Loss:     1.3513 Validation Accuracy: 0.537000\n",
      "Epoch 18, CIFAR-10 Batch 1:  Loss:     1.3089 Validation Accuracy: 0.546400\n",
      "Epoch 18, CIFAR-10 Batch 2:  Loss:     1.2075 Validation Accuracy: 0.555800\n",
      "Epoch 18, CIFAR-10 Batch 3:  Loss:     1.0400 Validation Accuracy: 0.555600\n",
      "Epoch 18, CIFAR-10 Batch 4:  Loss:     1.1336 Validation Accuracy: 0.556000\n",
      "Epoch 18, CIFAR-10 Batch 5:  Loss:     1.2736 Validation Accuracy: 0.558800\n",
      "Epoch 19, CIFAR-10 Batch 1:  Loss:     1.2942 Validation Accuracy: 0.559800\n",
      "Epoch 19, CIFAR-10 Batch 2:  Loss:     1.1522 Validation Accuracy: 0.560200\n",
      "Epoch 19, CIFAR-10 Batch 3:  Loss:     1.0338 Validation Accuracy: 0.558400\n",
      "Epoch 19, CIFAR-10 Batch 4:  Loss:     1.1364 Validation Accuracy: 0.559200\n",
      "Epoch 19, CIFAR-10 Batch 5:  Loss:     1.2215 Validation Accuracy: 0.558000\n",
      "Epoch 20, CIFAR-10 Batch 1:  Loss:     1.2703 Validation Accuracy: 0.547400\n",
      "Epoch 20, CIFAR-10 Batch 2:  Loss:     1.1350 Validation Accuracy: 0.562400\n",
      "Epoch 20, CIFAR-10 Batch 3:  Loss:     1.0096 Validation Accuracy: 0.558800\n",
      "Epoch 20, CIFAR-10 Batch 4:  Loss:     1.1253 Validation Accuracy: 0.555200\n",
      "Epoch 20, CIFAR-10 Batch 5:  Loss:     1.2309 Validation Accuracy: 0.558800\n",
      "Epoch 21, CIFAR-10 Batch 1:  Loss:     1.2450 Validation Accuracy: 0.565800\n",
      "Epoch 21, CIFAR-10 Batch 2:  Loss:     1.1193 Validation Accuracy: 0.565000\n",
      "Epoch 21, CIFAR-10 Batch 3:  Loss:     0.9680 Validation Accuracy: 0.566400\n",
      "Epoch 21, CIFAR-10 Batch 4:  Loss:     1.0514 Validation Accuracy: 0.572200\n",
      "Epoch 21, CIFAR-10 Batch 5:  Loss:     1.2103 Validation Accuracy: 0.562600\n",
      "Epoch 22, CIFAR-10 Batch 1:  Loss:     1.1319 Validation Accuracy: 0.576600\n",
      "Epoch 22, CIFAR-10 Batch 2:  Loss:     1.0707 Validation Accuracy: 0.572200\n",
      "Epoch 22, CIFAR-10 Batch 3:  Loss:     0.9756 Validation Accuracy: 0.565400\n",
      "Epoch 22, CIFAR-10 Batch 4:  Loss:     1.0020 Validation Accuracy: 0.575000\n",
      "Epoch 22, CIFAR-10 Batch 5:  Loss:     1.1825 Validation Accuracy: 0.566000\n",
      "Epoch 23, CIFAR-10 Batch 1:  Loss:     1.1615 Validation Accuracy: 0.569200\n",
      "Epoch 23, CIFAR-10 Batch 2:  Loss:     1.0790 Validation Accuracy: 0.578000\n",
      "Epoch 23, CIFAR-10 Batch 3:  Loss:     0.9672 Validation Accuracy: 0.576400\n",
      "Epoch 23, CIFAR-10 Batch 4:  Loss:     1.0193 Validation Accuracy: 0.570200\n",
      "Epoch 23, CIFAR-10 Batch 5:  Loss:     1.2108 Validation Accuracy: 0.560200\n",
      "Epoch 24, CIFAR-10 Batch 1:  Loss:     1.1146 Validation Accuracy: 0.575600\n",
      "Epoch 24, CIFAR-10 Batch 2:  Loss:     1.0579 Validation Accuracy: 0.577600\n",
      "Epoch 24, CIFAR-10 Batch 3:  Loss:     0.9279 Validation Accuracy: 0.570600\n",
      "Epoch 24, CIFAR-10 Batch 4:  Loss:     1.0064 Validation Accuracy: 0.577600\n",
      "Epoch 24, CIFAR-10 Batch 5:  Loss:     1.1661 Validation Accuracy: 0.558200\n",
      "Epoch 25, CIFAR-10 Batch 1:  Loss:     1.0797 Validation Accuracy: 0.579800\n",
      "Epoch 25, CIFAR-10 Batch 2:  Loss:     1.0534 Validation Accuracy: 0.586200\n",
      "Epoch 25, CIFAR-10 Batch 3:  Loss:     0.9277 Validation Accuracy: 0.583800\n",
      "Epoch 25, CIFAR-10 Batch 4:  Loss:     0.9964 Validation Accuracy: 0.586400\n",
      "Epoch 25, CIFAR-10 Batch 5:  Loss:     1.0996 Validation Accuracy: 0.582000\n",
      "Epoch 26, CIFAR-10 Batch 1:  Loss:     1.0862 Validation Accuracy: 0.584000\n",
      "Epoch 26, CIFAR-10 Batch 2:  Loss:     1.0879 Validation Accuracy: 0.576400\n",
      "Epoch 26, CIFAR-10 Batch 3:  Loss:     0.9128 Validation Accuracy: 0.584600\n",
      "Epoch 26, CIFAR-10 Batch 4:  Loss:     0.9679 Validation Accuracy: 0.588200\n",
      "Epoch 26, CIFAR-10 Batch 5:  Loss:     1.1614 Validation Accuracy: 0.573200\n",
      "Epoch 27, CIFAR-10 Batch 1:  Loss:     1.1132 Validation Accuracy: 0.588000\n",
      "Epoch 27, CIFAR-10 Batch 2:  Loss:     1.0205 Validation Accuracy: 0.585200\n",
      "Epoch 27, CIFAR-10 Batch 3:  Loss:     0.9136 Validation Accuracy: 0.582800\n",
      "Epoch 27, CIFAR-10 Batch 4:  Loss:     0.9939 Validation Accuracy: 0.587000\n",
      "Epoch 27, CIFAR-10 Batch 5:  Loss:     1.1177 Validation Accuracy: 0.578400\n",
      "Epoch 28, CIFAR-10 Batch 1:  Loss:     1.1035 Validation Accuracy: 0.581000\n",
      "Epoch 28, CIFAR-10 Batch 2:  Loss:     1.0289 Validation Accuracy: 0.590600\n",
      "Epoch 28, CIFAR-10 Batch 3:  Loss:     0.8932 Validation Accuracy: 0.584800\n",
      "Epoch 28, CIFAR-10 Batch 4:  Loss:     0.9555 Validation Accuracy: 0.594400\n",
      "Epoch 28, CIFAR-10 Batch 5:  Loss:     1.0850 Validation Accuracy: 0.584200\n",
      "Epoch 29, CIFAR-10 Batch 1:  Loss:     1.0145 Validation Accuracy: 0.590400\n",
      "Epoch 29, CIFAR-10 Batch 2:  Loss:     1.0061 Validation Accuracy: 0.589000\n",
      "Epoch 29, CIFAR-10 Batch 3:  Loss:     0.8556 Validation Accuracy: 0.588400\n",
      "Epoch 29, CIFAR-10 Batch 4:  Loss:     0.9655 Validation Accuracy: 0.599200\n",
      "Epoch 29, CIFAR-10 Batch 5:  Loss:     1.0639 Validation Accuracy: 0.592400\n",
      "Epoch 30, CIFAR-10 Batch 1:  Loss:     1.0091 Validation Accuracy: 0.601400\n",
      "Epoch 30, CIFAR-10 Batch 2:  Loss:     1.0106 Validation Accuracy: 0.599200\n",
      "Epoch 30, CIFAR-10 Batch 3:  Loss:     0.8652 Validation Accuracy: 0.594800\n",
      "Epoch 30, CIFAR-10 Batch 4:  Loss:     0.9483 Validation Accuracy: 0.593000\n",
      "Epoch 30, CIFAR-10 Batch 5:  Loss:     1.0891 Validation Accuracy: 0.585600\n",
      "Epoch 31, CIFAR-10 Batch 1:  Loss:     1.0129 Validation Accuracy: 0.603400\n",
      "Epoch 31, CIFAR-10 Batch 2:  Loss:     1.0103 Validation Accuracy: 0.601000\n",
      "Epoch 31, CIFAR-10 Batch 3:  Loss:     0.8630 Validation Accuracy: 0.598600\n",
      "Epoch 31, CIFAR-10 Batch 4:  Loss:     0.9510 Validation Accuracy: 0.585600\n",
      "Epoch 31, CIFAR-10 Batch 5:  Loss:     1.0301 Validation Accuracy: 0.598000\n",
      "Epoch 32, CIFAR-10 Batch 1:  Loss:     0.9800 Validation Accuracy: 0.601600\n",
      "Epoch 32, CIFAR-10 Batch 2:  Loss:     0.9941 Validation Accuracy: 0.600600\n",
      "Epoch 32, CIFAR-10 Batch 3:  Loss:     0.8326 Validation Accuracy: 0.596200\n",
      "Epoch 32, CIFAR-10 Batch 4:  Loss:     0.9215 Validation Accuracy: 0.600000\n",
      "Epoch 32, CIFAR-10 Batch 5:  Loss:     1.0376 Validation Accuracy: 0.581800\n",
      "Epoch 33, CIFAR-10 Batch 1:  Loss:     0.9945 Validation Accuracy: 0.601200\n",
      "Epoch 33, CIFAR-10 Batch 2:  Loss:     0.9892 Validation Accuracy: 0.605000\n",
      "Epoch 33, CIFAR-10 Batch 3:  Loss:     0.8135 Validation Accuracy: 0.600000\n",
      "Epoch 33, CIFAR-10 Batch 4:  Loss:     0.9356 Validation Accuracy: 0.599000\n",
      "Epoch 33, CIFAR-10 Batch 5:  Loss:     1.0063 Validation Accuracy: 0.598600\n",
      "Epoch 34, CIFAR-10 Batch 1:  Loss:     0.9719 Validation Accuracy: 0.613800\n",
      "Epoch 34, CIFAR-10 Batch 2:  Loss:     0.9656 Validation Accuracy: 0.602200\n",
      "Epoch 34, CIFAR-10 Batch 3:  Loss:     0.8121 Validation Accuracy: 0.595600\n",
      "Epoch 34, CIFAR-10 Batch 4:  Loss:     0.9381 Validation Accuracy: 0.601200\n",
      "Epoch 34, CIFAR-10 Batch 5:  Loss:     0.9953 Validation Accuracy: 0.609200\n",
      "Epoch 35, CIFAR-10 Batch 1:  Loss:     0.9538 Validation Accuracy: 0.612200\n",
      "Epoch 35, CIFAR-10 Batch 2:  Loss:     0.9174 Validation Accuracy: 0.601800\n",
      "Epoch 35, CIFAR-10 Batch 3:  Loss:     0.8200 Validation Accuracy: 0.613200\n",
      "Epoch 35, CIFAR-10 Batch 4:  Loss:     0.9693 Validation Accuracy: 0.606400\n",
      "Epoch 35, CIFAR-10 Batch 5:  Loss:     0.9847 Validation Accuracy: 0.604800\n",
      "Epoch 36, CIFAR-10 Batch 1:  Loss:     0.9585 Validation Accuracy: 0.617400\n",
      "Epoch 36, CIFAR-10 Batch 2:  Loss:     0.9407 Validation Accuracy: 0.592200\n",
      "Epoch 36, CIFAR-10 Batch 3:  Loss:     0.8061 Validation Accuracy: 0.608000\n",
      "Epoch 36, CIFAR-10 Batch 4:  Loss:     0.9085 Validation Accuracy: 0.612400\n",
      "Epoch 36, CIFAR-10 Batch 5:  Loss:     0.9837 Validation Accuracy: 0.602400\n",
      "Epoch 37, CIFAR-10 Batch 1:  Loss:     0.9585 Validation Accuracy: 0.610800\n",
      "Epoch 37, CIFAR-10 Batch 2:  Loss:     0.9354 Validation Accuracy: 0.612400\n",
      "Epoch 37, CIFAR-10 Batch 3:  Loss:     0.8145 Validation Accuracy: 0.595400\n",
      "Epoch 37, CIFAR-10 Batch 4:  Loss:     0.8922 Validation Accuracy: 0.614000\n",
      "Epoch 37, CIFAR-10 Batch 5:  Loss:     0.9588 Validation Accuracy: 0.608800\n",
      "Epoch 38, CIFAR-10 Batch 1:  Loss:     0.9068 Validation Accuracy: 0.607800\n",
      "Epoch 38, CIFAR-10 Batch 2:  Loss:     0.9096 Validation Accuracy: 0.607600\n",
      "Epoch 38, CIFAR-10 Batch 3:  Loss:     0.8139 Validation Accuracy: 0.597200\n",
      "Epoch 38, CIFAR-10 Batch 4:  Loss:     0.8922 Validation Accuracy: 0.600200\n",
      "Epoch 38, CIFAR-10 Batch 5:  Loss:     0.9798 Validation Accuracy: 0.614200\n",
      "Epoch 39, CIFAR-10 Batch 1:  Loss:     0.9086 Validation Accuracy: 0.601600\n",
      "Epoch 39, CIFAR-10 Batch 2:  Loss:     0.9423 Validation Accuracy: 0.606400\n",
      "Epoch 39, CIFAR-10 Batch 3:  Loss:     0.7814 Validation Accuracy: 0.608400\n",
      "Epoch 39, CIFAR-10 Batch 4:  Loss:     0.8652 Validation Accuracy: 0.615800\n",
      "Epoch 39, CIFAR-10 Batch 5:  Loss:     0.9718 Validation Accuracy: 0.615800\n",
      "Epoch 40, CIFAR-10 Batch 1:  Loss:     0.9603 Validation Accuracy: 0.608800\n",
      "Epoch 40, CIFAR-10 Batch 2:  Loss:     0.9171 Validation Accuracy: 0.619400\n",
      "Epoch 40, CIFAR-10 Batch 3:  Loss:     0.7689 Validation Accuracy: 0.617400\n",
      "Epoch 40, CIFAR-10 Batch 4:  Loss:     0.8323 Validation Accuracy: 0.617400\n",
      "Epoch 40, CIFAR-10 Batch 5:  Loss:     0.9776 Validation Accuracy: 0.587400\n",
      "Epoch 41, CIFAR-10 Batch 1:  Loss:     0.9123 Validation Accuracy: 0.611800\n",
      "Epoch 41, CIFAR-10 Batch 2:  Loss:     0.8909 Validation Accuracy: 0.613600\n",
      "Epoch 41, CIFAR-10 Batch 3:  Loss:     0.7661 Validation Accuracy: 0.609400\n",
      "Epoch 41, CIFAR-10 Batch 4:  Loss:     0.8417 Validation Accuracy: 0.619800\n",
      "Epoch 41, CIFAR-10 Batch 5:  Loss:     0.9578 Validation Accuracy: 0.614600\n",
      "Epoch 42, CIFAR-10 Batch 1:  Loss:     0.9065 Validation Accuracy: 0.618400\n",
      "Epoch 42, CIFAR-10 Batch 2:  Loss:     0.8777 Validation Accuracy: 0.601400\n",
      "Epoch 42, CIFAR-10 Batch 3:  Loss:     0.7804 Validation Accuracy: 0.615200\n",
      "Epoch 42, CIFAR-10 Batch 4:  Loss:     0.8392 Validation Accuracy: 0.617400\n",
      "Epoch 42, CIFAR-10 Batch 5:  Loss:     0.9805 Validation Accuracy: 0.608200\n",
      "Epoch 43, CIFAR-10 Batch 1:  Loss:     0.9276 Validation Accuracy: 0.607800\n",
      "Epoch 43, CIFAR-10 Batch 2:  Loss:     0.8916 Validation Accuracy: 0.614600\n",
      "Epoch 43, CIFAR-10 Batch 3:  Loss:     0.8053 Validation Accuracy: 0.613800\n",
      "Epoch 43, CIFAR-10 Batch 4:  Loss:     0.8418 Validation Accuracy: 0.619600\n",
      "Epoch 43, CIFAR-10 Batch 5:  Loss:     0.9124 Validation Accuracy: 0.616400\n",
      "Epoch 44, CIFAR-10 Batch 1:  Loss:     0.8851 Validation Accuracy: 0.609200\n",
      "Epoch 44, CIFAR-10 Batch 2:  Loss:     0.9041 Validation Accuracy: 0.611000\n",
      "Epoch 44, CIFAR-10 Batch 3:  Loss:     0.7791 Validation Accuracy: 0.622600\n",
      "Epoch 44, CIFAR-10 Batch 4:  Loss:     0.8484 Validation Accuracy: 0.617600\n",
      "Epoch 44, CIFAR-10 Batch 5:  Loss:     0.9481 Validation Accuracy: 0.614800\n",
      "Epoch 45, CIFAR-10 Batch 1:  Loss:     0.9036 Validation Accuracy: 0.613800\n",
      "Epoch 45, CIFAR-10 Batch 2:  Loss:     0.9321 Validation Accuracy: 0.614600\n",
      "Epoch 45, CIFAR-10 Batch 3:  Loss:     0.7465 Validation Accuracy: 0.616600\n",
      "Epoch 45, CIFAR-10 Batch 4:  Loss:     0.8719 Validation Accuracy: 0.617400\n",
      "Epoch 45, CIFAR-10 Batch 5:  Loss:     0.9191 Validation Accuracy: 0.615000\n",
      "Epoch 46, CIFAR-10 Batch 1:  Loss:     0.8671 Validation Accuracy: 0.617000\n",
      "Epoch 46, CIFAR-10 Batch 2:  Loss:     0.8684 Validation Accuracy: 0.625600\n",
      "Epoch 46, CIFAR-10 Batch 3:  Loss:     0.7440 Validation Accuracy: 0.626800\n",
      "Epoch 46, CIFAR-10 Batch 4:  Loss:     0.8816 Validation Accuracy: 0.595800\n",
      "Epoch 46, CIFAR-10 Batch 5:  Loss:     0.9417 Validation Accuracy: 0.623400\n",
      "Epoch 47, CIFAR-10 Batch 1:  Loss:     0.8870 Validation Accuracy: 0.615600\n",
      "Epoch 47, CIFAR-10 Batch 2:  Loss:     0.9416 Validation Accuracy: 0.619800\n",
      "Epoch 47, CIFAR-10 Batch 3:  Loss:     0.7382 Validation Accuracy: 0.629400\n",
      "Epoch 47, CIFAR-10 Batch 4:  Loss:     0.8263 Validation Accuracy: 0.620200\n",
      "Epoch 47, CIFAR-10 Batch 5:  Loss:     0.9265 Validation Accuracy: 0.627000\n",
      "Epoch 48, CIFAR-10 Batch 1:  Loss:     0.8260 Validation Accuracy: 0.625800\n",
      "Epoch 48, CIFAR-10 Batch 2:  Loss:     0.8871 Validation Accuracy: 0.627800\n",
      "Epoch 48, CIFAR-10 Batch 3:  Loss:     0.7612 Validation Accuracy: 0.622200\n",
      "Epoch 48, CIFAR-10 Batch 4:  Loss:     0.7651 Validation Accuracy: 0.631600\n",
      "Epoch 48, CIFAR-10 Batch 5:  Loss:     0.9042 Validation Accuracy: 0.623000\n",
      "Epoch 49, CIFAR-10 Batch 1:  Loss:     0.8401 Validation Accuracy: 0.625600\n",
      "Epoch 49, CIFAR-10 Batch 2:  Loss:     0.8731 Validation Accuracy: 0.628000\n",
      "Epoch 49, CIFAR-10 Batch 3:  Loss:     0.7444 Validation Accuracy: 0.626800\n",
      "Epoch 49, CIFAR-10 Batch 4:  Loss:     0.8018 Validation Accuracy: 0.620400\n",
      "Epoch 49, CIFAR-10 Batch 5:  Loss:     0.9527 Validation Accuracy: 0.598600\n",
      "Epoch 50, CIFAR-10 Batch 1:  Loss:     0.8284 Validation Accuracy: 0.622200\n",
      "Epoch 50, CIFAR-10 Batch 2:  Loss:     0.8588 Validation Accuracy: 0.638800\n",
      "Epoch 50, CIFAR-10 Batch 3:  Loss:     0.7314 Validation Accuracy: 0.625600\n",
      "Epoch 50, CIFAR-10 Batch 4:  Loss:     0.8290 Validation Accuracy: 0.622800\n",
      "Epoch 50, CIFAR-10 Batch 5:  Loss:     0.9092 Validation Accuracy: 0.626600\n"
     ]
    }
   ],
   "source": [
    "\"\"\"\n",
    "DON'T MODIFY ANYTHING IN THIS CELL\n",
    "\"\"\"\n",
    "save_model_path = './image_classification'\n",
    "\n",
    "print('Training...')\n",
    "with tf.Session() as sess:\n",
    "    # Initializing the variables\n",
    "    sess.run(tf.global_variables_initializer())\n",
    "    \n",
    "    # Training cycle\n",
    "    for epoch in range(epochs):\n",
    "        # Loop over all batches\n",
    "        n_batches = 5\n",
    "        for batch_i in range(1, n_batches + 1):\n",
    "            for batch_features, batch_labels in helper.load_preprocess_training_batch(batch_i, batch_size):\n",
    "                train_neural_network(sess, optimizer, keep_probability, batch_features, batch_labels)\n",
    "            print('Epoch {:>2}, CIFAR-10 Batch {}:  '.format(epoch + 1, batch_i), end='')\n",
    "            print_stats(sess, batch_features, batch_labels, cost, accuracy)\n",
    "            \n",
    "    # Save Model\n",
    "    saver = tf.train.Saver()\n",
    "    save_path = saver.save(sess, save_model_path)"
   ]
  },
  {
   "cell_type": "markdown",
   "metadata": {
    "deletable": true,
    "editable": true
   },
   "source": [
    "# Checkpoint\n",
    "The model has been saved to disk.\n",
    "## Test Model\n",
    "Test your model against the test dataset.  This will be your final accuracy. You should have an accuracy greater than 50%. If you don't, keep tweaking the model architecture and parameters."
   ]
  },
  {
   "cell_type": "code",
   "execution_count": 25,
   "metadata": {
    "collapsed": false,
    "deletable": true,
    "editable": true,
    "scrolled": true
   },
   "outputs": [
    {
     "name": "stdout",
     "output_type": "stream",
     "text": [
      "Testing Accuracy: 0.63388671875\n",
      "\n"
     ]
    },
    {
     "data": {
      "image/png": "[encoded data removed]",
      "text/plain": [
       "<matplotlib.figure.Figure at 0x7fc482d07f60>"
      ]
     },
     "metadata": {
      "image/png": {
       "height": 319.0,
       "width": 355.0
      }
     },
     "output_type": "display_data"
    }
   ],
   "source": [
    "\"\"\"\n",
    "DON'T MODIFY ANYTHING IN THIS CELL\n",
    "\"\"\"\n",
    "%matplotlib inline\n",
    "%config InlineBackend.figure_format = 'retina'\n",
    "\n",
    "import tensorflow as tf\n",
    "import pickle\n",
    "import helper\n",
    "import random\n",
    "\n",
    "# Set batch size if not already set\n",
    "try:\n",
    "    if batch_size:\n",
    "        pass\n",
    "except NameError:\n",
    "    batch_size = 64\n",
    "\n",
    "save_model_path = './image_classification'\n",
    "n_samples = 4\n",
    "top_n_predictions = 3\n",
    "\n",
    "def test_model():\n",
    "    \"\"\"\n",
    "    Test the saved model against the test dataset\n",
    "    \"\"\"\n",
    "\n",
    "    test_features, test_labels = pickle.load(open('preprocess_training.p', mode='rb'))\n",
    "    loaded_graph = tf.Graph()\n",
    "\n",
    "    with tf.Session(graph=loaded_graph) as sess:\n",
    "        # Load model\n",
    "        loader = tf.train.import_meta_graph(save_model_path + '.meta')\n",
    "        loader.restore(sess, save_model_path)\n",
    "\n",
    "        # Get Tensors from loaded model\n",
    "        loaded_x = loaded_graph.get_tensor_by_name('x:0')\n",
    "        loaded_y = loaded_graph.get_tensor_by_name('y:0')\n",
    "        loaded_keep_prob = loaded_graph.get_tensor_by_name('keep_prob:0')\n",
    "        loaded_logits = loaded_graph.get_tensor_by_name('logits:0')\n",
    "        loaded_acc = loaded_graph.get_tensor_by_name('accuracy:0')\n",
    "        \n",
    "        # Get accuracy in batches for memory limitations\n",
    "        test_batch_acc_total = 0\n",
    "        test_batch_count = 0\n",
    "        \n",
    "        for train_feature_batch, train_label_batch in helper.batch_features_labels(test_features, test_labels, batch_size):\n",
    "            test_batch_acc_total += sess.run(\n",
    "                loaded_acc,\n",
    "                feed_dict={loaded_x: train_feature_batch, loaded_y: train_label_batch, loaded_keep_prob: 1.0})\n",
    "            test_batch_count += 1\n",
    "\n",
    "        print('Testing Accuracy: {}\\n'.format(test_batch_acc_total/test_batch_count))\n",
    "\n",
    "        # Print Random Samples\n",
    "        random_test_features, random_test_labels = tuple(zip(*random.sample(list(zip(test_features, test_labels)), n_samples)))\n",
    "        random_test_predictions = sess.run(\n",
    "            tf.nn.top_k(tf.nn.softmax(loaded_logits), top_n_predictions),\n",
    "            feed_dict={loaded_x: random_test_features, loaded_y: random_test_labels, loaded_keep_prob: 1.0})\n",
    "        helper.display_image_predictions(random_test_features, random_test_labels, random_test_predictions)\n",
    "\n",
    "\n",
    "test_model()"
   ]
  },
  {
   "cell_type": "markdown",
   "metadata": {
    "deletable": true,
    "editable": true
   },
   "source": [
    "## Why 50-70% Accuracy?\n",
    "You might be wondering why you can't get an accuracy any higher. First things first, 50% isn't bad for a simple CNN.  Pure guessing would get you 10% accuracy. However, you might notice people are getting scores [well above 70%](http://rodrigob.github.io/are_we_there_yet/build/classification_datasets_results.html#43494641522d3130).  That's because we haven't taught you all there is to know about neural networks. We still need to cover a few more techniques.\n",
    "## Submitting This Project\n",
    "When submitting this project, make sure to run all the cells before saving the notebook.  Save the notebook file as \"dlnd_image_classification.ipynb\" and save it as a HTML file under \"File\" -> \"Download as\".  Include the \"helper.py\" and \"problem_unittests.py\" files in your submission."
   ]
  },
  {
   "cell_type": "code",
   "execution_count": null,
   "metadata": {
    "collapsed": true,
    "deletable": true,
    "editable": true
   },
   "outputs": [],
   "source": []
  }
 ],
 "metadata": {
  "kernelspec": {
   "display_name": "Python 3",
   "language": "python",
   "name": "python3"
  },
  "language_info": {
   "codemirror_mode": {
    "name": "ipython",
    "version": 3.0
   },
   "file_extension": ".py",
   "mimetype": "text/x-python",
   "name": "python",
   "nbconvert_exporter": "python",
   "pygments_lexer": "ipython3",
   "version": "3.5.2"
  },
  "widgets": {
   "state": {},
   "version": "1.1.2"
  }
 },
 "nbformat": 4,
 "nbformat_minor": 0
}