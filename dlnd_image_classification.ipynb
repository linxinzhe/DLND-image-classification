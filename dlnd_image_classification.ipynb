{
 "cells": [
  {
   "cell_type": "markdown",
   "metadata": {
    "collapsed": true,
    "deletable": true,
    "editable": true
   },
   "source": [
    "# Image Classification\n",
    "In this project, you'll classify images from the [CIFAR-10 dataset](https://www.cs.toronto.edu/~kriz/cifar.html).  The dataset consists of airplanes, dogs, cats, and other objects. You'll preprocess the images, then train a convolutional neural network on all the samples. The images need to be normalized and the labels need to be one-hot encoded.  You'll get to apply what you learned and build a convolutional, max pooling, dropout, and fully connected layers.  At the end, you'll get to see your neural network's predictions on the sample images.\n",
    "## Get the Data\n",
    "Run the following cell to download the [CIFAR-10 dataset for python](https://www.cs.toronto.edu/~kriz/cifar-10-python.tar.gz)."
   ]
  },
  {
   "cell_type": "code",
   "execution_count": 1,
   "metadata": {
    "collapsed": false,
    "deletable": true,
    "editable": true
   },
   "outputs": [
    {
     "name": "stdout",
     "output_type": "stream",
     "text": [
      "All files found!\n"
     ]
    }
   ],
   "source": [
    "\"\"\"\n",
    "DON'T MODIFY ANYTHING IN THIS CELL THAT IS BELOW THIS LINE\n",
    "\"\"\"\n",
    "from urllib.request import urlretrieve\n",
    "from os.path import isfile, isdir\n",
    "from tqdm import tqdm\n",
    "import problem_unittests as tests\n",
    "import tarfile\n",
    "\n",
    "cifar10_dataset_folder_path = 'cifar-10-batches-py'\n",
    "\n",
    "class DLProgress(tqdm):\n",
    "    last_block = 0\n",
    "\n",
    "    def hook(self, block_num=1, block_size=1, total_size=None):\n",
    "        self.total = total_size\n",
    "        self.update((block_num - self.last_block) * block_size)\n",
    "        self.last_block = block_num\n",
    "\n",
    "if not isfile('cifar-10-python.tar.gz'):\n",
    "    with DLProgress(unit='B', unit_scale=True, miniters=1, desc='CIFAR-10 Dataset') as pbar:\n",
    "        urlretrieve(\n",
    "            'https://www.cs.toronto.edu/~kriz/cifar-10-python.tar.gz',\n",
    "            'cifar-10-python.tar.gz',\n",
    "            pbar.hook)\n",
    "\n",
    "if not isdir(cifar10_dataset_folder_path):\n",
    "    with tarfile.open('cifar-10-python.tar.gz') as tar:\n",
    "        tar.extractall()\n",
    "        tar.close()\n",
    "\n",
    "\n",
    "tests.test_folder_path(cifar10_dataset_folder_path)"
   ]
  },
  {
   "cell_type": "markdown",
   "metadata": {
    "deletable": true,
    "editable": true
   },
   "source": [
    "## Explore the Data\n",
    "The dataset is broken into batches to prevent your machine from running out of memory.  The CIFAR-10 dataset consists of 5 batches, named `data_batch_1`, `data_batch_2`, etc.. Each batch contains the labels and images that are one of the following:\n",
    "* airplane\n",
    "* automobile\n",
    "* bird\n",
    "* cat\n",
    "* deer\n",
    "* dog\n",
    "* frog\n",
    "* horse\n",
    "* ship\n",
    "* truck\n",
    "\n",
    "Understanding a dataset is part of making predictions on the data.  Play around with the code cell below by changing the `batch_id` and `sample_id`. The `batch_id` is the id for a batch (1-5). The `sample_id` is the id for a image and label pair in the batch.\n",
    "\n",
    "Ask yourself \"What are all possible labels?\", \"What is the range of values for the image data?\", \"Are the labels in order or random?\".  Answers to questions like these will help you preprocess the data and end up with better predictions."
   ]
  },
  {
   "cell_type": "code",
   "execution_count": 2,
   "metadata": {
    "collapsed": false,
    "deletable": true,
    "editable": true
   },
   "outputs": [
    {
     "name": "stdout",
     "output_type": "stream",
     "text": [
      "\n",
      "Stats of batch 3:\n",
      "Samples: 10000\n",
      "Label Counts: {0: 994, 1: 1042, 2: 965, 3: 997, 4: 990, 5: 1029, 6: 978, 7: 1015, 8: 961, 9: 1029}\n",
      "First 20 Labels: [8, 5, 0, 6, 9, 2, 8, 3, 6, 2, 7, 4, 6, 9, 0, 0, 7, 3, 7, 2]\n",
      "\n",
      "Example of Image 7:\n",
      "Image - Min Value: 12 Max Value: 254\n",
      "Image - Shape: (32, 32, 3)\n",
      "Label - Label Id: 3 Name: cat\n"
     ]
    },
    {
     "data": {
      "image/png": "[encoded data removed]",
      "text/plain": [
       "<matplotlib.figure.Figure at 0x7f1fd0638470>"
      ]
     },
     "metadata": {
      "image/png": {
       "height": 250.0,
       "width": 253.0
      }
     },
     "output_type": "display_data"
    }
   ],
   "source": [
    "%matplotlib inline\n",
    "%config InlineBackend.figure_format = 'retina'\n",
    "\n",
    "import helper\n",
    "import numpy as np\n",
    "\n",
    "# Explore the dataset\n",
    "batch_id = 3\n",
    "sample_id = 7\n",
    "helper.display_stats(cifar10_dataset_folder_path, batch_id, sample_id)"
   ]
  },
  {
   "cell_type": "markdown",
   "metadata": {
    "deletable": true,
    "editable": true
   },
   "source": [
    "## Implement Preprocess Functions\n",
    "### Normalize\n",
    "In the cell below, implement the `normalize` function to take in image data, `x`, and return it as a normalized Numpy array. The values should be in the range of 0 to 1, inclusive.  The return object should be the same shape as `x`."
   ]
  },
  {
   "cell_type": "code",
   "execution_count": 3,
   "metadata": {
    "collapsed": false,
    "deletable": true,
    "editable": true
   },
   "outputs": [
    {
     "name": "stdout",
     "output_type": "stream",
     "text": [
      "Tests Passed\n"
     ]
    }
   ],
   "source": [
    "def normalize(x):\n",
    "    \"\"\"\n",
    "    Normalize a list of sample image data in the range of 0 to 1\n",
    "    : x: List of image data.  The image shape is (32, 32, 3)\n",
    "    : return: Numpy array of normalize data\n",
    "    \"\"\"\n",
    "    # TODO: Implement Function\n",
    "    max_value=np.max(x)\n",
    "    min_value=np.min(x)\n",
    "    return (x-min_value)/(max_value-min_value) #Siraj's Math Notations\n",
    "\n",
    "\n",
    "\"\"\"\n",
    "DON'T MODIFY ANYTHING IN THIS CELL THAT IS BELOW THIS LINE\n",
    "\"\"\"\n",
    "tests.test_normalize(normalize)"
   ]
  },
  {
   "cell_type": "markdown",
   "metadata": {
    "deletable": true,
    "editable": true
   },
   "source": [
    "### One-hot encode\n",
    "Just like the previous code cell, you'll be implementing a function for preprocessing.  This time, you'll implement the `one_hot_encode` function. The input, `x`, are a list of labels.  Implement the function to return the list of labels as One-Hot encoded Numpy array.  The possible values for labels are 0 to 9. The one-hot encoding function should return the same encoding for each value between each call to `one_hot_encode`.  Make sure to save the map of encodings outside the function.\n",
    "\n",
    "Hint: Don't reinvent the wheel."
   ]
  },
  {
   "cell_type": "code",
   "execution_count": 4,
   "metadata": {
    "collapsed": false,
    "deletable": true,
    "editable": true
   },
   "outputs": [
    {
     "name": "stdout",
     "output_type": "stream",
     "text": [
      "Tests Passed\n"
     ]
    }
   ],
   "source": [
    "def one_hot_encode(x):\n",
    "    \"\"\"\n",
    "    One hot encode a list of sample labels. Return a one-hot encoded vector for each label.\n",
    "    : x: List of sample Labels\n",
    "    : return: Numpy array of one-hot encoded labels\n",
    "    \"\"\"\n",
    "    # TODO: Implement Function\n",
    "    return np.eye(9+1)[x] #...well,I actually reinvented the wheel according to the Andrew Trask's class until someone told me that numpy has a function called eye()....\n",
    "\n",
    "\n",
    "\"\"\"\n",
    "DON'T MODIFY ANYTHING IN THIS CELL THAT IS BELOW THIS LINE\n",
    "\"\"\"\n",
    "tests.test_one_hot_encode(one_hot_encode)"
   ]
  },
  {
   "cell_type": "markdown",
   "metadata": {
    "deletable": true,
    "editable": true
   },
   "source": [
    "### Randomize Data\n",
    "As you saw from exploring the data above, the order of the samples are randomized.  It doesn't hurt to randomize it again, but you don't need to for this dataset."
   ]
  },
  {
   "cell_type": "markdown",
   "metadata": {
    "deletable": true,
    "editable": true
   },
   "source": [
    "## Preprocess all the data and save it\n",
    "Running the code cell below will preprocess all the CIFAR-10 data and save it to file. The code below also uses 10% of the training data for validation."
   ]
  },
  {
   "cell_type": "code",
   "execution_count": 6,
   "metadata": {
    "collapsed": false,
    "deletable": true,
    "editable": true
   },
   "outputs": [],
   "source": [
    "\"\"\"\n",
    "DON'T MODIFY ANYTHING IN THIS CELL\n",
    "\"\"\"\n",
    "# Preprocess Training, Validation, and Testing Data\n",
    "helper.preprocess_and_save_data(cifar10_dataset_folder_path, normalize, one_hot_encode)"
   ]
  },
  {
   "cell_type": "markdown",
   "metadata": {
    "deletable": true,
    "editable": true
   },
   "source": [
    "# Check Point\n",
    "This is your first checkpoint.  If you ever decide to come back to this notebook or have to restart the notebook, you can start from here.  The preprocessed data has been saved to disk."
   ]
  },
  {
   "cell_type": "code",
   "execution_count": 5,
   "metadata": {
    "collapsed": true,
    "deletable": true,
    "editable": true
   },
   "outputs": [],
   "source": [
    "\"\"\"\n",
    "DON'T MODIFY ANYTHING IN THIS CELL\n",
    "\"\"\"\n",
    "import pickle\n",
    "import problem_unittests as tests\n",
    "import helper\n",
    "\n",
    "# Load the Preprocessed Validation data\n",
    "valid_features, valid_labels = pickle.load(open('preprocess_validation.p', mode='rb'))"
   ]
  },
  {
   "cell_type": "markdown",
   "metadata": {
    "deletable": true,
    "editable": true
   },
   "source": [
    "## Build the network\n",
    "For the neural network, you'll build each layer into a function.  Most of the code you've seen has been outside of functions. To test your code more thoroughly, we require that you put each layer in a function.  This allows us to give you better feedback and test for simple mistakes using our unittests before you submit your project.\n",
    "\n",
    "If you're finding it hard to dedicate enough time for this course a week, we've provided a small shortcut to this part of the project. In the next couple of problems, you'll have the option to use [TensorFlow Layers](https://www.tensorflow.org/api_docs/python/tf/layers) or [TensorFlow Layers (contrib)](https://www.tensorflow.org/api_guides/python/contrib.layers) to build each layer, except \"Convolutional & Max Pooling\" layer.  TF Layers is similar to Keras's and TFLearn's abstraction to layers, so it's easy to pickup.\n",
    "\n",
    "If you would like to get the most of this course, try to solve all the problems without TF Layers.  Let's begin!\n",
    "### Input\n",
    "The neural network needs to read the image data, one-hot encoded labels, and dropout keep probability. Implement the following functions\n",
    "* Implement `neural_net_image_input`\n",
    " * Return a [TF Placeholder](https://www.tensorflow.org/api_docs/python/tf/placeholder)\n",
    " * Set the shape using `image_shape` with batch size set to `None`.\n",
    " * Name the TensorFlow placeholder \"x\" using the TensorFlow `name` parameter in the [TF Placeholder](https://www.tensorflow.org/api_docs/python/tf/placeholder).\n",
    "* Implement `neural_net_label_input`\n",
    " * Return a [TF Placeholder](https://www.tensorflow.org/api_docs/python/tf/placeholder)\n",
    " * Set the shape using `n_classes` with batch size set to `None`.\n",
    " * Name the TensorFlow placeholder \"y\" using the TensorFlow `name` parameter in the [TF Placeholder](https://www.tensorflow.org/api_docs/python/tf/placeholder).\n",
    "* Implement `neural_net_keep_prob_input`\n",
    " * Return a [TF Placeholder](https://www.tensorflow.org/api_docs/python/tf/placeholder) for dropout keep probability.\n",
    " * Name the TensorFlow placeholder \"keep_prob\" using the TensorFlow `name` parameter in the [TF Placeholder](https://www.tensorflow.org/api_docs/python/tf/placeholder).\n",
    "\n",
    "These names will be used at the end of the project to load your saved model.\n",
    "\n",
    "Note: `None` for shapes in TensorFlow allow for a dynamic size."
   ]
  },
  {
   "cell_type": "code",
   "execution_count": 6,
   "metadata": {
    "collapsed": false,
    "deletable": true,
    "editable": true
   },
   "outputs": [
    {
     "name": "stdout",
     "output_type": "stream",
     "text": [
      "Image Input Tests Passed.\n",
      "Label Input Tests Passed.\n",
      "Keep Prob Tests Passed.\n"
     ]
    }
   ],
   "source": [
    "import tensorflow as tf\n",
    "\n",
    "def neural_net_image_input(image_shape):\n",
    "    \"\"\"\n",
    "    Return a Tensor for a bach of image input\n",
    "    : image_shape: Shape of the images\n",
    "    : return: Tensor for image input.\n",
    "    \"\"\"\n",
    "    # TODO: Implement Function\n",
    "    return tf.placeholder(tf.float32,shape=[None,image_shape[0],image_shape[1],image_shape[2]],name=\"x\")\n",
    "\n",
    "\n",
    "def neural_net_label_input(n_classes):\n",
    "    \"\"\"\n",
    "    Return a Tensor for a batch of label input\n",
    "    : n_classes: Number of classes\n",
    "    : return: Tensor for label input.\n",
    "    \"\"\"\n",
    "    # TODO: Implement Function\n",
    "    return tf.placeholder(tf.float32,shape=[None,n_classes],name=\"y\")\n",
    "\n",
    "\n",
    "def neural_net_keep_prob_input():\n",
    "    \"\"\"\n",
    "    Return a Tensor for keep probability\n",
    "    : return: Tensor for keep probability.\n",
    "    \"\"\"\n",
    "    # TODO: Implement Function\n",
    "    return tf.placeholder(tf.float32,name=\"keep_prob\")\n",
    "\n",
    "\n",
    "\"\"\"\n",
    "DON'T MODIFY ANYTHING IN THIS CELL THAT IS BELOW THIS LINE\n",
    "\"\"\"\n",
    "tf.reset_default_graph()\n",
    "tests.test_nn_image_inputs(neural_net_image_input)\n",
    "tests.test_nn_label_inputs(neural_net_label_input)\n",
    "tests.test_nn_keep_prob_inputs(neural_net_keep_prob_input)"
   ]
  },
  {
   "cell_type": "markdown",
   "metadata": {
    "deletable": true,
    "editable": true
   },
   "source": [
    "### Convolution and Max Pooling Layer\n",
    "Convolution layers have a lot of success with images. For this code cell, you should implement the function `conv2d_maxpool` to apply convolution then max pooling:\n",
    "* Create the weight and bias using `conv_ksize`, `conv_num_outputs` and the shape of `x_tensor`.\n",
    "* Apply a convolution to `x_tensor` using weight and `conv_strides`.\n",
    " * We recommend you use same padding, but you're welcome to use any padding.\n",
    "* Add bias\n",
    "* Add a nonlinear activation to the convolution.\n",
    "* Apply Max Pooling using `pool_ksize` and `pool_strides`.\n",
    " * We recommend you use same padding, but you're welcome to use any padding.\n",
    "\n",
    "Note: You **can't** use [TensorFlow Layers](https://www.tensorflow.org/api_docs/python/tf/layers) or [TensorFlow Layers (contrib)](https://www.tensorflow.org/api_guides/python/contrib.layers) for this layer.  You're free to use any TensorFlow package for all the other layers."
   ]
  },
  {
   "cell_type": "code",
   "execution_count": 7,
   "metadata": {
    "collapsed": false,
    "deletable": true,
    "editable": true
   },
   "outputs": [
    {
     "name": "stdout",
     "output_type": "stream",
     "text": [
      "Tests Passed\n"
     ]
    }
   ],
   "source": [
    "def conv2d_maxpool(x_tensor, conv_num_outputs, conv_ksize, conv_strides, pool_ksize, pool_strides):\n",
    "    \"\"\"\n",
    "    Apply convolution then max pooling to x_tensor\n",
    "    :param x_tensor: TensorFlow Tensor\n",
    "    :param conv_num_outputs: Number of outputs for the convolutional layer\n",
    "    :param conv_strides: Stride 2-D Tuple for convolution\n",
    "    :param pool_ksize: kernal size 2-D Tuple for pool\n",
    "    :param pool_strides: Stride 2-D Tuple for pool\n",
    "    : return: A tensor that represents convolution and max pooling of x_tensor\n",
    "    \"\"\"\n",
    "    # TODO: Implement Function\n",
    "    depth=x_tensor.get_shape().as_list()[3]\n",
    "    W=tf.Variable(tf.random_normal([conv_ksize[0],conv_ksize[1],depth, conv_num_outputs],stddev=0.1))\n",
    "    b=tf.Variable(tf.random_normal([conv_num_outputs],mean=0.0,stddev=0.01))\n",
    "    \n",
    "    x = tf.nn.conv2d(x_tensor, W, strides=[1,conv_strides[0],conv_strides[1],1], padding='SAME')\n",
    "    x = tf.nn.bias_add(x, b)\n",
    "    x=tf.nn.max_pool(\n",
    "        x,\n",
    "        ksize=[1,pool_ksize[0],pool_ksize[1],1],\n",
    "        strides=[1,pool_strides[0],pool_strides[1],1],\n",
    "        padding='SAME')\n",
    "    return x \n",
    "\n",
    "\n",
    "\"\"\"\n",
    "DON'T MODIFY ANYTHING IN THIS CELL THAT IS BELOW THIS LINE\n",
    "\"\"\"\n",
    "tests.test_con_pool(conv2d_maxpool)"
   ]
  },
  {
   "cell_type": "markdown",
   "metadata": {
    "deletable": true,
    "editable": true
   },
   "source": [
    "### Flatten Layer\n",
    "Implement the `flatten` function to change the dimension of `x_tensor` from a 4-D tensor to a 2-D tensor.  The output should be the shape (*Batch Size*, *Flattened Image Size*). You can use [TensorFlow Layers](https://www.tensorflow.org/api_docs/python/tf/layers) or [TensorFlow Layers (contrib)](https://www.tensorflow.org/api_guides/python/contrib.layers) for this layer."
   ]
  },
  {
   "cell_type": "code",
   "execution_count": 8,
   "metadata": {
    "collapsed": false,
    "deletable": true,
    "editable": true
   },
   "outputs": [
    {
     "name": "stdout",
     "output_type": "stream",
     "text": [
      "Tests Passed\n"
     ]
    }
   ],
   "source": [
    "def flatten(x_tensor):\n",
    "    \"\"\"\n",
    "    Flatten x_tensor to (Batch Size, Flattened Image Size)\n",
    "    : x_tensor: A tensor of size (Batch Size, ...), where ... are the image dimensions.\n",
    "    : return: A tensor of size (Batch Size, Flattened Image Size).\n",
    "    \"\"\"\n",
    "    # TODO: Implement Function\n",
    "    shape=x_tensor.get_shape().as_list()\n",
    "    flattened_to_two=np.prod(shape[1:4])\n",
    "    return tf.reshape(x_tensor,[-1, flattened_to_two])\n",
    "\n",
    "\n",
    "\"\"\"\n",
    "DON'T MODIFY ANYTHING IN THIS CELL THAT IS BELOW THIS LINE\n",
    "\"\"\"\n",
    "tests.test_flatten(flatten)"
   ]
  },
  {
   "cell_type": "markdown",
   "metadata": {
    "deletable": true,
    "editable": true
   },
   "source": [
    "### Fully-Connected Layer\n",
    "Implement the `fully_conn` function to apply a fully connected layer to `x_tensor` with the shape (*Batch Size*, *num_outputs*). You can use [TensorFlow Layers](https://www.tensorflow.org/api_docs/python/tf/layers) or [TensorFlow Layers (contrib)](https://www.tensorflow.org/api_guides/python/contrib.layers) for this layer."
   ]
  },
  {
   "cell_type": "code",
   "execution_count": 9,
   "metadata": {
    "collapsed": false,
    "deletable": true,
    "editable": true
   },
   "outputs": [
    {
     "name": "stdout",
     "output_type": "stream",
     "text": [
      "Tests Passed\n"
     ]
    }
   ],
   "source": [
    "def fully_conn(x_tensor, num_outputs):\n",
    "    \"\"\"\n",
    "    Apply a fully connected layer to x_tensor using weight and bias\n",
    "    : x_tensor: A 2-D tensor where the first dimension is batch size.\n",
    "    : num_outputs: The number of output that the new tensor should be.\n",
    "    : return: A 2-D tensor where the second dimension is num_outputs.\n",
    "    \"\"\"\n",
    "    # TODO: Implement Function\n",
    "    shape=x_tensor.get_shape().as_list() # 2dim\n",
    "    \n",
    "    weights = {\n",
    "    'fc': tf.Variable(tf.random_normal([shape[1],num_outputs],stddev=0.1))}\n",
    "    \n",
    "    biases = {\n",
    "    'fc': tf.Variable(tf.random_normal([num_outputs],mean=0.0,stddev=0.01))}\n",
    "    \n",
    "    fc=tf.add(tf.matmul(x_tensor,weights['fc']), biases['fc'])\n",
    "    fc=tf.nn.relu(fc)\n",
    "    return fc\n",
    "\n",
    "\n",
    "\"\"\"\n",
    "DON'T MODIFY ANYTHING IN THIS CELL THAT IS BELOW THIS LINE\n",
    "\"\"\"\n",
    "tests.test_fully_conn(fully_conn)"
   ]
  },
  {
   "cell_type": "markdown",
   "metadata": {
    "deletable": true,
    "editable": true
   },
   "source": [
    "### Output Layer\n",
    "Implement the `output` function to apply a fully connected layer to `x_tensor` with the shape (*Batch Size*, *num_outputs*). You can use [TensorFlow Layers](https://www.tensorflow.org/api_docs/python/tf/layers) or [TensorFlow Layers (contrib)](https://www.tensorflow.org/api_guides/python/contrib.layers) for this layer.\n",
    "\n",
    "Note: Activation, softmax, or cross entropy shouldn't be applied to this."
   ]
  },
  {
   "cell_type": "code",
   "execution_count": 10,
   "metadata": {
    "collapsed": false,
    "deletable": true,
    "editable": true
   },
   "outputs": [
    {
     "name": "stdout",
     "output_type": "stream",
     "text": [
      "Tests Passed\n"
     ]
    }
   ],
   "source": [
    "def output(x_tensor, num_outputs):\n",
    "    \"\"\"\n",
    "    Apply a output layer to x_tensor using weight and bias\n",
    "    : x_tensor: A 2-D tensor where the first dimension is batch size.\n",
    "    : num_outputs: The number of output that the new tensor should be.\n",
    "    : return: A 2-D tensor where the second dimension is num_outputs.\n",
    "    \"\"\"\n",
    "    # TODO: Implement Function\n",
    "    shape=x_tensor.get_shape().as_list() # 2dim\n",
    "    \n",
    "    weights = {\n",
    "    'out': tf.Variable(tf.random_normal([shape[1],num_outputs]))}\n",
    "    \n",
    "    biases = {\n",
    "    'out': tf.Variable(tf.random_normal([num_outputs]))}\n",
    "    \n",
    "    out=tf.add(tf.matmul(x_tensor,weights['out']), biases['out'])\n",
    "    return out\n",
    "\n",
    "\n",
    "\"\"\"\n",
    "DON'T MODIFY ANYTHING IN THIS CELL THAT IS BELOW THIS LINE\n",
    "\"\"\"\n",
    "tests.test_output(output)"
   ]
  },
  {
   "cell_type": "markdown",
   "metadata": {
    "deletable": true,
    "editable": true
   },
   "source": [
    "### Create Convolutional Model\n",
    "Implement the function `conv_net` to create a convolutional neural network model. The function takes in a batch of images, `x`, and outputs logits.  Use the layers you created above to create this model:\n",
    "\n",
    "* Apply 1, 2, or 3 Convolution and Max Pool layers\n",
    "* Apply a Flatten Layer\n",
    "* Apply 1, 2, or 3 Fully Connected Layers\n",
    "* Apply an Output Layer\n",
    "* Return the output\n",
    "* Apply [TensorFlow's Dropout](https://www.tensorflow.org/api_docs/python/tf/nn/dropout) to one or more layers in the model using `keep_prob`. "
   ]
  },
  {
   "cell_type": "code",
   "execution_count": 20,
   "metadata": {
    "collapsed": false,
    "deletable": true,
    "editable": true
   },
   "outputs": [
    {
     "name": "stdout",
     "output_type": "stream",
     "text": [
      "Neural Network Built!\n"
     ]
    }
   ],
   "source": [
    "def conv_net(x, keep_prob):\n",
    "    \"\"\"\n",
    "    Create a convolutional neural network model\n",
    "    : x: Placeholder tensor that holds image data.\n",
    "    : keep_prob: Placeholder tensor that hold dropout keep probability.\n",
    "    : return: Tensor that represents logits\n",
    "    \"\"\"\n",
    "    # TODO: Apply 1, 2, or 3 Convolution and Max Pool layers\n",
    "    #    Play around with different number of outputs, kernel size and stride\n",
    "    # Function Definition from Above:\n",
    "    #    conv2d_maxpool(x_tensor, conv_num_outputs, conv_ksize, conv_strides, pool_ksize, pool_strides)\n",
    "    x_tensor=x\n",
    "    conv_num_outputs=9\n",
    "    conv_ksize=[3,3]\n",
    "    conv_strides=[1,1]\n",
    "    pool_ksize=[2,2]\n",
    "    pool_strides=[2,2]\n",
    "    \n",
    "    cv1=conv2d_maxpool(x_tensor,conv_num_outputs,conv_ksize,conv_strides,pool_ksize,pool_strides)\n",
    "#     cv1=tf.nn.dropout(cv1,keep_prob=keep_prob)\n",
    "    cv2=conv2d_maxpool(cv1,conv_num_outputs*2,conv_ksize,conv_strides,pool_ksize,pool_strides)\n",
    "    cv2=tf.nn.dropout(cv2,keep_prob=keep_prob)\n",
    "    \n",
    "    cv=cv2\n",
    "    # TODO: Apply a Flatten Layer\n",
    "    # Function Definition from Above:\n",
    "    #   flatten(x_tensor)\n",
    "    ft=flatten(cv)\n",
    "\n",
    "    # TODO: Apply 1, 2, or 3 Fully Connected Layers\n",
    "    #    Play around with different number of outputs\n",
    "    # Function Definition from Above:\n",
    "    #   fully_conn(x_tensor, num_outputs)\n",
    "    num_outputs=60\n",
    "    fc1=fully_conn(ft,num_outputs)\n",
    "    fc1=tf.nn.dropout(fc1,keep_prob=keep_prob)\n",
    "    fc2=fully_conn(fc1,num_outputs//2)\n",
    "    fc2=tf.nn.dropout(fc2,keep_prob=keep_prob)\n",
    "    \n",
    "    fc=fc2\n",
    "    # TODO: Apply an Output Layer\n",
    "    #    Set this to the number of classes\n",
    "    # Function Definition from Above:\n",
    "    #   output(x_tensor, num_outputs)\n",
    "    \n",
    "    out=output(fc, 10)\n",
    "    \n",
    "    # TODO: return output\n",
    "    return out\n",
    "\n",
    "\n",
    "\"\"\"\n",
    "DON'T MODIFY ANYTHING IN THIS CELL THAT IS BELOW THIS LINE\n",
    "\"\"\"\n",
    "\n",
    "##############################\n",
    "## Build the Neural Network ##\n",
    "##############################\n",
    "\n",
    "# Remove previous weights, bias, inputs, etc..\n",
    "tf.reset_default_graph()\n",
    "\n",
    "# Inputs\n",
    "x = neural_net_image_input((32, 32, 3))\n",
    "y = neural_net_label_input(10)\n",
    "keep_prob = neural_net_keep_prob_input()\n",
    "\n",
    "# Model\n",
    "logits = conv_net(x, keep_prob)\n",
    "\n",
    "# Name logits Tensor, so that is can be loaded from disk after training\n",
    "logits = tf.identity(logits, name='logits')\n",
    "\n",
    "# Loss and Optimizer\n",
    "cost = tf.reduce_mean(tf.nn.softmax_cross_entropy_with_logits(logits=logits, labels=y))\n",
    "optimizer = tf.train.AdamOptimizer().minimize(cost)\n",
    "\n",
    "# Accuracy\n",
    "correct_pred = tf.equal(tf.argmax(logits, 1), tf.argmax(y, 1))\n",
    "accuracy = tf.reduce_mean(tf.cast(correct_pred, tf.float32), name='accuracy')\n",
    "\n",
    "tests.test_conv_net(conv_net)"
   ]
  },
  {
   "cell_type": "markdown",
   "metadata": {
    "deletable": true,
    "editable": true
   },
   "source": [
    "## Train the Neural Network\n",
    "### Single Optimization\n",
    "Implement the function `train_neural_network` to do a single optimization.  The optimization should use `optimizer` to optimize in `session` with a `feed_dict` of the following:\n",
    "* `x` for image input\n",
    "* `y` for labels\n",
    "* `keep_prob` for keep probability for dropout\n",
    "\n",
    "This function will be called for each batch, so `tf.global_variables_initializer()` has already been called.\n",
    "\n",
    "Note: Nothing needs to be returned. This function is only optimizing the neural network."
   ]
  },
  {
   "cell_type": "code",
   "execution_count": 21,
   "metadata": {
    "collapsed": false,
    "deletable": true,
    "editable": true
   },
   "outputs": [
    {
     "name": "stdout",
     "output_type": "stream",
     "text": [
      "Tests Passed\n"
     ]
    }
   ],
   "source": [
    "def train_neural_network(session, optimizer, keep_probability, feature_batch, label_batch):\n",
    "    \"\"\"\n",
    "    Optimize the session on a batch of images and labels\n",
    "    : session: Current TensorFlow session\n",
    "    : optimizer: TensorFlow optimizer function\n",
    "    : keep_probability: keep probability\n",
    "    : feature_batch: Batch of Numpy image data\n",
    "    : label_batch: Batch of Numpy label data\n",
    "    \"\"\"\n",
    "    # TODO: Implement Function\n",
    "    session.run(optimizer,\n",
    "                feed_dict={\n",
    "                    keep_prob:keep_probability,\n",
    "                    x:feature_batch,\n",
    "                    y:label_batch\n",
    "                }\n",
    "               )\n",
    "\n",
    "\n",
    "\"\"\"\n",
    "DON'T MODIFY ANYTHING IN THIS CELL THAT IS BELOW THIS LINE\n",
    "\"\"\"\n",
    "tests.test_train_nn(train_neural_network)"
   ]
  },
  {
   "cell_type": "markdown",
   "metadata": {
    "deletable": true,
    "editable": true
   },
   "source": [
    "### Show Stats\n",
    "Implement the function `print_stats` to print loss and validation accuracy.  Use the global variables `valid_features` and `valid_labels` to calculate validation accuracy.  Use a keep probability of `1.0` to calculate the loss and validation accuracy."
   ]
  },
  {
   "cell_type": "code",
   "execution_count": 22,
   "metadata": {
    "collapsed": false,
    "deletable": true,
    "editable": true
   },
   "outputs": [],
   "source": [
    "def print_stats(session, feature_batch, label_batch, cost, accuracy):\n",
    "    \"\"\"\n",
    "    Print information about loss and validation accuracy\n",
    "    : session: Current TensorFlow session\n",
    "    : feature_batch: Batch of Numpy image data\n",
    "    : label_batch: Batch of Numpy label data\n",
    "    : cost: TensorFlow cost function\n",
    "    : accuracy: TensorFlow accuracy function\n",
    "    \"\"\"\n",
    "    # TODO: Implement Function\n",
    "    loss=sess.run(cost, feed_dict={\n",
    "                x:feature_batch,\n",
    "                y:label_batch,\n",
    "                keep_prob: 1.})\n",
    "    \n",
    "    global valid_features, valid_labels\n",
    "    valid_acc=sess.run(accuracy, feed_dict={\n",
    "                x:valid_features,\n",
    "                y:valid_labels,\n",
    "                keep_prob: 1.})\n",
    "    \n",
    "    print('Loss: {:>10.4f} Validation Accuracy: {:.6f}'.format(\n",
    "                loss,\n",
    "                valid_acc))"
   ]
  },
  {
   "cell_type": "markdown",
   "metadata": {
    "deletable": true,
    "editable": true
   },
   "source": [
    "### Hyperparameters\n",
    "Tune the following parameters:\n",
    "* Set `epochs` to the number of iterations until the network stops learning or start overfitting\n",
    "* Set `batch_size` to the highest number that your machine has memory for.  Most people set them to common sizes of memory:\n",
    " * 64\n",
    " * 128\n",
    " * 256\n",
    " * ...\n",
    "* Set `keep_probability` to the probability of keeping a node using dropout"
   ]
  },
  {
   "cell_type": "code",
   "execution_count": 25,
   "metadata": {
    "collapsed": true,
    "deletable": true,
    "editable": true
   },
   "outputs": [],
   "source": [
    "# TODO: Tune Parameters\n",
    "epochs = 50\n",
    "batch_size = 128\n",
    "keep_probability = 0.5"
   ]
  },
  {
   "cell_type": "markdown",
   "metadata": {
    "deletable": true,
    "editable": true
   },
   "source": [
    "### Train on a Single CIFAR-10 Batch\n",
    "Instead of training the neural network on all the CIFAR-10 batches of data, let's use a single batch. This should save time while you iterate on the model to get a better accuracy.  Once the final validation accuracy is 50% or greater, run the model on all the data in the next section."
   ]
  },
  {
   "cell_type": "code",
   "execution_count": 26,
   "metadata": {
    "collapsed": false,
    "deletable": true,
    "editable": true
   },
   "outputs": [
    {
     "name": "stdout",
     "output_type": "stream",
     "text": [
      "Checking the Training on a Single Batch...\n",
      "Epoch  1, CIFAR-10 Batch 1:  Loss:     2.5810 Validation Accuracy: 0.100200\n",
      "Epoch  2, CIFAR-10 Batch 1:  Loss:     2.4208 Validation Accuracy: 0.116800\n",
      "Epoch  3, CIFAR-10 Batch 1:  Loss:     2.3135 Validation Accuracy: 0.137600\n",
      "Epoch  4, CIFAR-10 Batch 1:  Loss:     2.2257 Validation Accuracy: 0.152200\n",
      "Epoch  5, CIFAR-10 Batch 1:  Loss:     2.1953 Validation Accuracy: 0.174800\n",
      "Epoch  6, CIFAR-10 Batch 1:  Loss:     2.1280 Validation Accuracy: 0.219400\n",
      "Epoch  7, CIFAR-10 Batch 1:  Loss:     2.0613 Validation Accuracy: 0.231600\n",
      "Epoch  8, CIFAR-10 Batch 1:  Loss:     1.9797 Validation Accuracy: 0.267800\n",
      "Epoch  9, CIFAR-10 Batch 1:  Loss:     1.9495 Validation Accuracy: 0.284400\n",
      "Epoch 10, CIFAR-10 Batch 1:  Loss:     1.8976 Validation Accuracy: 0.323000\n",
      "Epoch 11, CIFAR-10 Batch 1:  Loss:     1.8480 Validation Accuracy: 0.344200\n",
      "Epoch 12, CIFAR-10 Batch 1:  Loss:     1.8128 Validation Accuracy: 0.345600\n",
      "Epoch 13, CIFAR-10 Batch 1:  Loss:     1.7648 Validation Accuracy: 0.373400\n",
      "Epoch 14, CIFAR-10 Batch 1:  Loss:     1.7411 Validation Accuracy: 0.382000\n",
      "Epoch 15, CIFAR-10 Batch 1:  Loss:     1.7581 Validation Accuracy: 0.353800\n",
      "Epoch 16, CIFAR-10 Batch 1:  Loss:     1.7033 Validation Accuracy: 0.390800\n",
      "Epoch 17, CIFAR-10 Batch 1:  Loss:     1.6410 Validation Accuracy: 0.402800\n",
      "Epoch 18, CIFAR-10 Batch 1:  Loss:     1.6574 Validation Accuracy: 0.416200\n",
      "Epoch 19, CIFAR-10 Batch 1:  Loss:     1.6263 Validation Accuracy: 0.407400\n",
      "Epoch 20, CIFAR-10 Batch 1:  Loss:     1.5704 Validation Accuracy: 0.411200\n",
      "Epoch 21, CIFAR-10 Batch 1:  Loss:     1.5440 Validation Accuracy: 0.433800\n",
      "Epoch 22, CIFAR-10 Batch 1:  Loss:     1.5207 Validation Accuracy: 0.421200\n",
      "Epoch 23, CIFAR-10 Batch 1:  Loss:     1.4658 Validation Accuracy: 0.410400\n",
      "Epoch 24, CIFAR-10 Batch 1:  Loss:     1.4551 Validation Accuracy: 0.442400\n",
      "Epoch 25, CIFAR-10 Batch 1:  Loss:     1.3968 Validation Accuracy: 0.438000\n",
      "Epoch 26, CIFAR-10 Batch 1:  Loss:     1.3729 Validation Accuracy: 0.447200\n",
      "Epoch 27, CIFAR-10 Batch 1:  Loss:     1.3262 Validation Accuracy: 0.450800\n",
      "Epoch 28, CIFAR-10 Batch 1:  Loss:     1.3087 Validation Accuracy: 0.453400\n",
      "Epoch 29, CIFAR-10 Batch 1:  Loss:     1.3019 Validation Accuracy: 0.468000\n",
      "Epoch 30, CIFAR-10 Batch 1:  Loss:     1.2945 Validation Accuracy: 0.466400\n",
      "Epoch 31, CIFAR-10 Batch 1:  Loss:     1.2572 Validation Accuracy: 0.489400\n",
      "Epoch 32, CIFAR-10 Batch 1:  Loss:     1.2567 Validation Accuracy: 0.472000\n",
      "Epoch 33, CIFAR-10 Batch 1:  Loss:     1.2204 Validation Accuracy: 0.482400\n",
      "Epoch 34, CIFAR-10 Batch 1:  Loss:     1.2289 Validation Accuracy: 0.476200\n",
      "Epoch 35, CIFAR-10 Batch 1:  Loss:     1.1735 Validation Accuracy: 0.488600\n",
      "Epoch 36, CIFAR-10 Batch 1:  Loss:     1.1839 Validation Accuracy: 0.494400\n",
      "Epoch 37, CIFAR-10 Batch 1:  Loss:     1.1447 Validation Accuracy: 0.497400\n",
      "Epoch 38, CIFAR-10 Batch 1:  Loss:     1.1091 Validation Accuracy: 0.487800\n",
      "Epoch 39, CIFAR-10 Batch 1:  Loss:     1.1153 Validation Accuracy: 0.483800\n",
      "Epoch 40, CIFAR-10 Batch 1:  Loss:     1.1186 Validation Accuracy: 0.488800\n",
      "Epoch 41, CIFAR-10 Batch 1:  Loss:     1.0819 Validation Accuracy: 0.506600\n",
      "Epoch 42, CIFAR-10 Batch 1:  Loss:     1.0716 Validation Accuracy: 0.510000\n",
      "Epoch 43, CIFAR-10 Batch 1:  Loss:     1.0721 Validation Accuracy: 0.508000\n",
      "Epoch 44, CIFAR-10 Batch 1:  Loss:     1.0255 Validation Accuracy: 0.495400\n",
      "Epoch 45, CIFAR-10 Batch 1:  Loss:     1.0240 Validation Accuracy: 0.519200\n",
      "Epoch 46, CIFAR-10 Batch 1:  Loss:     0.9838 Validation Accuracy: 0.522800\n",
      "Epoch 47, CIFAR-10 Batch 1:  Loss:     0.9737 Validation Accuracy: 0.519600\n",
      "Epoch 48, CIFAR-10 Batch 1:  Loss:     0.9694 Validation Accuracy: 0.502000\n",
      "Epoch 49, CIFAR-10 Batch 1:  Loss:     0.9820 Validation Accuracy: 0.524400\n",
      "Epoch 50, CIFAR-10 Batch 1:  Loss:     0.9465 Validation Accuracy: 0.517200\n"
     ]
    }
   ],
   "source": [
    "\"\"\"\n",
    "DON'T MODIFY ANYTHING IN THIS CELL\n",
    "\"\"\"\n",
    "print('Checking the Training on a Single Batch...')\n",
    "with tf.Session() as sess:\n",
    "    # Initializing the variables\n",
    "    sess.run(tf.global_variables_initializer())\n",
    "    \n",
    "    # Training cycle\n",
    "    for epoch in range(epochs):\n",
    "        batch_i = 1\n",
    "        for batch_features, batch_labels in helper.load_preprocess_training_batch(batch_i, batch_size):\n",
    "            train_neural_network(sess, optimizer, keep_probability, batch_features, batch_labels)\n",
    "        print('Epoch {:>2}, CIFAR-10 Batch {}:  '.format(epoch + 1, batch_i), end='')\n",
    "        print_stats(sess, batch_features, batch_labels, cost, accuracy)"
   ]
  },
  {
   "cell_type": "markdown",
   "metadata": {
    "deletable": true,
    "editable": true
   },
   "source": [
    "### Fully Train the Model\n",
    "Now that you got a good accuracy with a single CIFAR-10 batch, try it with all five batches."
   ]
  },
  {
   "cell_type": "code",
   "execution_count": 27,
   "metadata": {
    "collapsed": false,
    "deletable": true,
    "editable": true
   },
   "outputs": [
    {
     "name": "stdout",
     "output_type": "stream",
     "text": [
      "Training...\n",
      "Epoch  1, CIFAR-10 Batch 1:  Loss:     2.5560 Validation Accuracy: 0.104800\n",
      "Epoch  1, CIFAR-10 Batch 2:  Loss:     2.3131 Validation Accuracy: 0.166600\n",
      "Epoch  1, CIFAR-10 Batch 3:  Loss:     2.2513 Validation Accuracy: 0.192800\n",
      "Epoch  1, CIFAR-10 Batch 4:  Loss:     2.2004 Validation Accuracy: 0.241200\n",
      "Epoch  1, CIFAR-10 Batch 5:  Loss:     2.1723 Validation Accuracy: 0.249600\n",
      "Epoch  2, CIFAR-10 Batch 1:  Loss:     2.0981 Validation Accuracy: 0.283200\n",
      "Epoch  2, CIFAR-10 Batch 2:  Loss:     2.0064 Validation Accuracy: 0.308000\n",
      "Epoch  2, CIFAR-10 Batch 3:  Loss:     1.8947 Validation Accuracy: 0.328600\n",
      "Epoch  2, CIFAR-10 Batch 4:  Loss:     1.8866 Validation Accuracy: 0.344600\n",
      "Epoch  2, CIFAR-10 Batch 5:  Loss:     1.8839 Validation Accuracy: 0.363800\n",
      "Epoch  3, CIFAR-10 Batch 1:  Loss:     1.9134 Validation Accuracy: 0.377600\n",
      "Epoch  3, CIFAR-10 Batch 2:  Loss:     1.8731 Validation Accuracy: 0.379000\n",
      "Epoch  3, CIFAR-10 Batch 3:  Loss:     1.7579 Validation Accuracy: 0.346200\n",
      "Epoch  3, CIFAR-10 Batch 4:  Loss:     1.7938 Validation Accuracy: 0.383600\n",
      "Epoch  3, CIFAR-10 Batch 5:  Loss:     1.7833 Validation Accuracy: 0.394400\n",
      "Epoch  4, CIFAR-10 Batch 1:  Loss:     1.9034 Validation Accuracy: 0.369400\n",
      "Epoch  4, CIFAR-10 Batch 2:  Loss:     1.7553 Validation Accuracy: 0.409400\n",
      "Epoch  4, CIFAR-10 Batch 3:  Loss:     1.5322 Validation Accuracy: 0.420200\n",
      "Epoch  4, CIFAR-10 Batch 4:  Loss:     1.6821 Validation Accuracy: 0.426800\n",
      "Epoch  4, CIFAR-10 Batch 5:  Loss:     1.6679 Validation Accuracy: 0.440800\n",
      "Epoch  5, CIFAR-10 Batch 1:  Loss:     1.7541 Validation Accuracy: 0.440800\n",
      "Epoch  5, CIFAR-10 Batch 2:  Loss:     1.6033 Validation Accuracy: 0.447600\n",
      "Epoch  5, CIFAR-10 Batch 3:  Loss:     1.4332 Validation Accuracy: 0.467000\n",
      "Epoch  5, CIFAR-10 Batch 4:  Loss:     1.5262 Validation Accuracy: 0.450600\n",
      "Epoch  5, CIFAR-10 Batch 5:  Loss:     1.6261 Validation Accuracy: 0.461400\n",
      "Epoch  6, CIFAR-10 Batch 1:  Loss:     1.7219 Validation Accuracy: 0.442200\n",
      "Epoch  6, CIFAR-10 Batch 2:  Loss:     1.5655 Validation Accuracy: 0.485400\n",
      "Epoch  6, CIFAR-10 Batch 3:  Loss:     1.4062 Validation Accuracy: 0.479800\n",
      "Epoch  6, CIFAR-10 Batch 4:  Loss:     1.4776 Validation Accuracy: 0.491600\n",
      "Epoch  6, CIFAR-10 Batch 5:  Loss:     1.5450 Validation Accuracy: 0.474000\n",
      "Epoch  7, CIFAR-10 Batch 1:  Loss:     1.5828 Validation Accuracy: 0.490200\n",
      "Epoch  7, CIFAR-10 Batch 2:  Loss:     1.4859 Validation Accuracy: 0.494400\n",
      "Epoch  7, CIFAR-10 Batch 3:  Loss:     1.3825 Validation Accuracy: 0.481800\n",
      "Epoch  7, CIFAR-10 Batch 4:  Loss:     1.3649 Validation Accuracy: 0.489800\n",
      "Epoch  7, CIFAR-10 Batch 5:  Loss:     1.4790 Validation Accuracy: 0.501200\n",
      "Epoch  8, CIFAR-10 Batch 1:  Loss:     1.4971 Validation Accuracy: 0.497000\n",
      "Epoch  8, CIFAR-10 Batch 2:  Loss:     1.4360 Validation Accuracy: 0.507000\n",
      "Epoch  8, CIFAR-10 Batch 3:  Loss:     1.3124 Validation Accuracy: 0.510600\n",
      "Epoch  8, CIFAR-10 Batch 4:  Loss:     1.3547 Validation Accuracy: 0.507000\n",
      "Epoch  8, CIFAR-10 Batch 5:  Loss:     1.4642 Validation Accuracy: 0.493000\n",
      "Epoch  9, CIFAR-10 Batch 1:  Loss:     1.5329 Validation Accuracy: 0.490000\n",
      "Epoch  9, CIFAR-10 Batch 2:  Loss:     1.3346 Validation Accuracy: 0.509000\n",
      "Epoch  9, CIFAR-10 Batch 3:  Loss:     1.2347 Validation Accuracy: 0.523200\n",
      "Epoch  9, CIFAR-10 Batch 4:  Loss:     1.2933 Validation Accuracy: 0.523400\n",
      "Epoch  9, CIFAR-10 Batch 5:  Loss:     1.3819 Validation Accuracy: 0.520400\n",
      "Epoch 10, CIFAR-10 Batch 1:  Loss:     1.4420 Validation Accuracy: 0.523000\n",
      "Epoch 10, CIFAR-10 Batch 2:  Loss:     1.2956 Validation Accuracy: 0.533000\n",
      "Epoch 10, CIFAR-10 Batch 3:  Loss:     1.2539 Validation Accuracy: 0.529400\n",
      "Epoch 10, CIFAR-10 Batch 4:  Loss:     1.2773 Validation Accuracy: 0.533000\n",
      "Epoch 10, CIFAR-10 Batch 5:  Loss:     1.3298 Validation Accuracy: 0.535600\n",
      "Epoch 11, CIFAR-10 Batch 1:  Loss:     1.3391 Validation Accuracy: 0.532200\n",
      "Epoch 11, CIFAR-10 Batch 2:  Loss:     1.2559 Validation Accuracy: 0.536600\n",
      "Epoch 11, CIFAR-10 Batch 3:  Loss:     1.1770 Validation Accuracy: 0.543000\n",
      "Epoch 11, CIFAR-10 Batch 4:  Loss:     1.2505 Validation Accuracy: 0.541200\n",
      "Epoch 11, CIFAR-10 Batch 5:  Loss:     1.3087 Validation Accuracy: 0.528800\n",
      "Epoch 12, CIFAR-10 Batch 1:  Loss:     1.3345 Validation Accuracy: 0.549600\n",
      "Epoch 12, CIFAR-10 Batch 2:  Loss:     1.2024 Validation Accuracy: 0.535400\n",
      "Epoch 12, CIFAR-10 Batch 3:  Loss:     1.1801 Validation Accuracy: 0.553200\n",
      "Epoch 12, CIFAR-10 Batch 4:  Loss:     1.1928 Validation Accuracy: 0.540000\n",
      "Epoch 12, CIFAR-10 Batch 5:  Loss:     1.2517 Validation Accuracy: 0.556000\n",
      "Epoch 13, CIFAR-10 Batch 1:  Loss:     1.3299 Validation Accuracy: 0.558200\n",
      "Epoch 13, CIFAR-10 Batch 2:  Loss:     1.1461 Validation Accuracy: 0.561600\n",
      "Epoch 13, CIFAR-10 Batch 3:  Loss:     1.1326 Validation Accuracy: 0.555400\n",
      "Epoch 13, CIFAR-10 Batch 4:  Loss:     1.1560 Validation Accuracy: 0.562400\n",
      "Epoch 13, CIFAR-10 Batch 5:  Loss:     1.2798 Validation Accuracy: 0.556200\n",
      "Epoch 14, CIFAR-10 Batch 1:  Loss:     1.2670 Validation Accuracy: 0.559600\n",
      "Epoch 14, CIFAR-10 Batch 2:  Loss:     1.1105 Validation Accuracy: 0.559400\n",
      "Epoch 14, CIFAR-10 Batch 3:  Loss:     1.0645 Validation Accuracy: 0.566400\n",
      "Epoch 14, CIFAR-10 Batch 4:  Loss:     1.1812 Validation Accuracy: 0.546200\n",
      "Epoch 14, CIFAR-10 Batch 5:  Loss:     1.2035 Validation Accuracy: 0.565600\n",
      "Epoch 15, CIFAR-10 Batch 1:  Loss:     1.2596 Validation Accuracy: 0.571600\n",
      "Epoch 15, CIFAR-10 Batch 2:  Loss:     1.1012 Validation Accuracy: 0.565000\n",
      "Epoch 15, CIFAR-10 Batch 3:  Loss:     1.0292 Validation Accuracy: 0.569800\n",
      "Epoch 15, CIFAR-10 Batch 4:  Loss:     1.1085 Validation Accuracy: 0.572800\n",
      "Epoch 15, CIFAR-10 Batch 5:  Loss:     1.2597 Validation Accuracy: 0.552000\n",
      "Epoch 16, CIFAR-10 Batch 1:  Loss:     1.1442 Validation Accuracy: 0.572600\n",
      "Epoch 16, CIFAR-10 Batch 2:  Loss:     1.1126 Validation Accuracy: 0.570200\n",
      "Epoch 16, CIFAR-10 Batch 3:  Loss:     1.0867 Validation Accuracy: 0.559200\n",
      "Epoch 16, CIFAR-10 Batch 4:  Loss:     1.1127 Validation Accuracy: 0.567200\n",
      "Epoch 16, CIFAR-10 Batch 5:  Loss:     1.2791 Validation Accuracy: 0.564000\n",
      "Epoch 17, CIFAR-10 Batch 1:  Loss:     1.2518 Validation Accuracy: 0.568600\n",
      "Epoch 17, CIFAR-10 Batch 2:  Loss:     1.0479 Validation Accuracy: 0.576800\n",
      "Epoch 17, CIFAR-10 Batch 3:  Loss:     1.0824 Validation Accuracy: 0.558200\n",
      "Epoch 17, CIFAR-10 Batch 4:  Loss:     1.1229 Validation Accuracy: 0.568800\n",
      "Epoch 17, CIFAR-10 Batch 5:  Loss:     1.1455 Validation Accuracy: 0.582600\n",
      "Epoch 18, CIFAR-10 Batch 1:  Loss:     1.1406 Validation Accuracy: 0.573000\n",
      "Epoch 18, CIFAR-10 Batch 2:  Loss:     1.0501 Validation Accuracy: 0.582400\n",
      "Epoch 18, CIFAR-10 Batch 3:  Loss:     1.0722 Validation Accuracy: 0.576600\n",
      "Epoch 18, CIFAR-10 Batch 4:  Loss:     1.0662 Validation Accuracy: 0.574400\n",
      "Epoch 18, CIFAR-10 Batch 5:  Loss:     1.1597 Validation Accuracy: 0.578600\n",
      "Epoch 19, CIFAR-10 Batch 1:  Loss:     1.1595 Validation Accuracy: 0.575600\n",
      "Epoch 19, CIFAR-10 Batch 2:  Loss:     1.0375 Validation Accuracy: 0.593200\n",
      "Epoch 19, CIFAR-10 Batch 3:  Loss:     1.0323 Validation Accuracy: 0.587400\n",
      "Epoch 19, CIFAR-10 Batch 4:  Loss:     1.0592 Validation Accuracy: 0.580200\n",
      "Epoch 19, CIFAR-10 Batch 5:  Loss:     1.1606 Validation Accuracy: 0.587200\n",
      "Epoch 20, CIFAR-10 Batch 1:  Loss:     1.0626 Validation Accuracy: 0.582800\n",
      "Epoch 20, CIFAR-10 Batch 2:  Loss:     1.0675 Validation Accuracy: 0.576800\n",
      "Epoch 20, CIFAR-10 Batch 3:  Loss:     0.9738 Validation Accuracy: 0.588200\n",
      "Epoch 20, CIFAR-10 Batch 4:  Loss:     1.0942 Validation Accuracy: 0.578000\n",
      "Epoch 20, CIFAR-10 Batch 5:  Loss:     1.1895 Validation Accuracy: 0.578600\n",
      "Epoch 21, CIFAR-10 Batch 1:  Loss:     1.0669 Validation Accuracy: 0.594600\n",
      "Epoch 21, CIFAR-10 Batch 2:  Loss:     1.0804 Validation Accuracy: 0.583600\n",
      "Epoch 21, CIFAR-10 Batch 3:  Loss:     1.0170 Validation Accuracy: 0.593200\n",
      "Epoch 21, CIFAR-10 Batch 4:  Loss:     1.0632 Validation Accuracy: 0.584400\n",
      "Epoch 21, CIFAR-10 Batch 5:  Loss:     1.0882 Validation Accuracy: 0.592000\n",
      "Epoch 22, CIFAR-10 Batch 1:  Loss:     1.0415 Validation Accuracy: 0.585400\n",
      "Epoch 22, CIFAR-10 Batch 2:  Loss:     1.0932 Validation Accuracy: 0.589200\n",
      "Epoch 22, CIFAR-10 Batch 3:  Loss:     0.9773 Validation Accuracy: 0.572000\n",
      "Epoch 22, CIFAR-10 Batch 4:  Loss:     1.0498 Validation Accuracy: 0.556800\n",
      "Epoch 22, CIFAR-10 Batch 5:  Loss:     1.1253 Validation Accuracy: 0.585800\n",
      "Epoch 23, CIFAR-10 Batch 1:  Loss:     1.0331 Validation Accuracy: 0.602200\n",
      "Epoch 23, CIFAR-10 Batch 2:  Loss:     0.9910 Validation Accuracy: 0.599400\n",
      "Epoch 23, CIFAR-10 Batch 3:  Loss:     0.9719 Validation Accuracy: 0.595000\n",
      "Epoch 23, CIFAR-10 Batch 4:  Loss:     1.0399 Validation Accuracy: 0.594200\n",
      "Epoch 23, CIFAR-10 Batch 5:  Loss:     1.0758 Validation Accuracy: 0.598000\n",
      "Epoch 24, CIFAR-10 Batch 1:  Loss:     1.0308 Validation Accuracy: 0.598200\n",
      "Epoch 24, CIFAR-10 Batch 2:  Loss:     0.9755 Validation Accuracy: 0.604600\n",
      "Epoch 24, CIFAR-10 Batch 3:  Loss:     0.9969 Validation Accuracy: 0.604200\n",
      "Epoch 24, CIFAR-10 Batch 4:  Loss:     1.0807 Validation Accuracy: 0.579600\n",
      "Epoch 24, CIFAR-10 Batch 5:  Loss:     1.1016 Validation Accuracy: 0.599000\n",
      "Epoch 25, CIFAR-10 Batch 1:  Loss:     1.0848 Validation Accuracy: 0.583200\n",
      "Epoch 25, CIFAR-10 Batch 2:  Loss:     0.9740 Validation Accuracy: 0.604200\n",
      "Epoch 25, CIFAR-10 Batch 3:  Loss:     0.9906 Validation Accuracy: 0.606000\n",
      "Epoch 25, CIFAR-10 Batch 4:  Loss:     0.9868 Validation Accuracy: 0.593600\n",
      "Epoch 25, CIFAR-10 Batch 5:  Loss:     1.0793 Validation Accuracy: 0.597400\n",
      "Epoch 26, CIFAR-10 Batch 1:  Loss:     1.0342 Validation Accuracy: 0.601600\n",
      "Epoch 26, CIFAR-10 Batch 2:  Loss:     0.9954 Validation Accuracy: 0.592800\n",
      "Epoch 26, CIFAR-10 Batch 3:  Loss:     0.9493 Validation Accuracy: 0.600800\n",
      "Epoch 26, CIFAR-10 Batch 4:  Loss:     1.0484 Validation Accuracy: 0.598200\n",
      "Epoch 26, CIFAR-10 Batch 5:  Loss:     1.0490 Validation Accuracy: 0.610800\n",
      "Epoch 27, CIFAR-10 Batch 1:  Loss:     1.0443 Validation Accuracy: 0.597600\n",
      "Epoch 27, CIFAR-10 Batch 2:  Loss:     0.9746 Validation Accuracy: 0.605200\n",
      "Epoch 27, CIFAR-10 Batch 3:  Loss:     0.9619 Validation Accuracy: 0.601000\n",
      "Epoch 27, CIFAR-10 Batch 4:  Loss:     0.9782 Validation Accuracy: 0.601800\n",
      "Epoch 27, CIFAR-10 Batch 5:  Loss:     1.0435 Validation Accuracy: 0.598800\n",
      "Epoch 28, CIFAR-10 Batch 1:  Loss:     0.9561 Validation Accuracy: 0.605000\n",
      "Epoch 28, CIFAR-10 Batch 2:  Loss:     0.9383 Validation Accuracy: 0.602400\n",
      "Epoch 28, CIFAR-10 Batch 3:  Loss:     0.9234 Validation Accuracy: 0.605600\n",
      "Epoch 28, CIFAR-10 Batch 4:  Loss:     0.9637 Validation Accuracy: 0.606000\n",
      "Epoch 28, CIFAR-10 Batch 5:  Loss:     1.0569 Validation Accuracy: 0.601800\n",
      "Epoch 29, CIFAR-10 Batch 1:  Loss:     0.9656 Validation Accuracy: 0.604400\n",
      "Epoch 29, CIFAR-10 Batch 2:  Loss:     0.9428 Validation Accuracy: 0.602800\n",
      "Epoch 29, CIFAR-10 Batch 3:  Loss:     0.9120 Validation Accuracy: 0.603200\n",
      "Epoch 29, CIFAR-10 Batch 4:  Loss:     0.9880 Validation Accuracy: 0.604000\n",
      "Epoch 29, CIFAR-10 Batch 5:  Loss:     1.0397 Validation Accuracy: 0.611000\n",
      "Epoch 30, CIFAR-10 Batch 1:  Loss:     1.0035 Validation Accuracy: 0.599800\n",
      "Epoch 30, CIFAR-10 Batch 2:  Loss:     0.9046 Validation Accuracy: 0.607200\n",
      "Epoch 30, CIFAR-10 Batch 3:  Loss:     0.9414 Validation Accuracy: 0.604600\n",
      "Epoch 30, CIFAR-10 Batch 4:  Loss:     1.0358 Validation Accuracy: 0.592200\n",
      "Epoch 30, CIFAR-10 Batch 5:  Loss:     1.0605 Validation Accuracy: 0.584200\n",
      "Epoch 31, CIFAR-10 Batch 1:  Loss:     1.0786 Validation Accuracy: 0.597200\n",
      "Epoch 31, CIFAR-10 Batch 2:  Loss:     0.9931 Validation Accuracy: 0.586000\n",
      "Epoch 31, CIFAR-10 Batch 3:  Loss:     0.9069 Validation Accuracy: 0.608800\n",
      "Epoch 31, CIFAR-10 Batch 4:  Loss:     0.9580 Validation Accuracy: 0.610800\n",
      "Epoch 31, CIFAR-10 Batch 5:  Loss:     1.0207 Validation Accuracy: 0.607000\n",
      "Epoch 32, CIFAR-10 Batch 1:  Loss:     0.9671 Validation Accuracy: 0.613400\n",
      "Epoch 32, CIFAR-10 Batch 2:  Loss:     0.9032 Validation Accuracy: 0.607600\n",
      "Epoch 32, CIFAR-10 Batch 3:  Loss:     0.9494 Validation Accuracy: 0.601800\n",
      "Epoch 32, CIFAR-10 Batch 4:  Loss:     0.9944 Validation Accuracy: 0.609400\n",
      "Epoch 32, CIFAR-10 Batch 5:  Loss:     1.0337 Validation Accuracy: 0.599600\n",
      "Epoch 33, CIFAR-10 Batch 1:  Loss:     0.9686 Validation Accuracy: 0.613000\n",
      "Epoch 33, CIFAR-10 Batch 2:  Loss:     0.9210 Validation Accuracy: 0.600800\n",
      "Epoch 33, CIFAR-10 Batch 3:  Loss:     0.9744 Validation Accuracy: 0.586200\n",
      "Epoch 33, CIFAR-10 Batch 4:  Loss:     0.9682 Validation Accuracy: 0.597200\n",
      "Epoch 33, CIFAR-10 Batch 5:  Loss:     0.9972 Validation Accuracy: 0.612800\n",
      "Epoch 34, CIFAR-10 Batch 1:  Loss:     0.9371 Validation Accuracy: 0.603600\n",
      "Epoch 34, CIFAR-10 Batch 2:  Loss:     0.9583 Validation Accuracy: 0.604200\n",
      "Epoch 34, CIFAR-10 Batch 3:  Loss:     0.8908 Validation Accuracy: 0.613600\n",
      "Epoch 34, CIFAR-10 Batch 4:  Loss:     0.9425 Validation Accuracy: 0.608600\n",
      "Epoch 34, CIFAR-10 Batch 5:  Loss:     1.0443 Validation Accuracy: 0.605000\n",
      "Epoch 35, CIFAR-10 Batch 1:  Loss:     0.9307 Validation Accuracy: 0.616200\n",
      "Epoch 35, CIFAR-10 Batch 2:  Loss:     0.9344 Validation Accuracy: 0.611800\n",
      "Epoch 35, CIFAR-10 Batch 3:  Loss:     0.9037 Validation Accuracy: 0.617400\n",
      "Epoch 35, CIFAR-10 Batch 4:  Loss:     0.8992 Validation Accuracy: 0.614000\n",
      "Epoch 35, CIFAR-10 Batch 5:  Loss:     1.0299 Validation Accuracy: 0.594400\n",
      "Epoch 36, CIFAR-10 Batch 1:  Loss:     0.9999 Validation Accuracy: 0.606600\n",
      "Epoch 36, CIFAR-10 Batch 2:  Loss:     0.8689 Validation Accuracy: 0.606800\n",
      "Epoch 36, CIFAR-10 Batch 3:  Loss:     0.9021 Validation Accuracy: 0.610200\n",
      "Epoch 36, CIFAR-10 Batch 4:  Loss:     0.9203 Validation Accuracy: 0.614600\n",
      "Epoch 36, CIFAR-10 Batch 5:  Loss:     1.0065 Validation Accuracy: 0.610200\n",
      "Epoch 37, CIFAR-10 Batch 1:  Loss:     0.9480 Validation Accuracy: 0.615200\n",
      "Epoch 37, CIFAR-10 Batch 2:  Loss:     0.9071 Validation Accuracy: 0.623800\n",
      "Epoch 37, CIFAR-10 Batch 3:  Loss:     0.8744 Validation Accuracy: 0.609800\n",
      "Epoch 37, CIFAR-10 Batch 4:  Loss:     0.9593 Validation Accuracy: 0.600200\n",
      "Epoch 37, CIFAR-10 Batch 5:  Loss:     0.9815 Validation Accuracy: 0.611600\n",
      "Epoch 38, CIFAR-10 Batch 1:  Loss:     0.9256 Validation Accuracy: 0.618600\n",
      "Epoch 38, CIFAR-10 Batch 2:  Loss:     0.8620 Validation Accuracy: 0.620600\n",
      "Epoch 38, CIFAR-10 Batch 3:  Loss:     0.9107 Validation Accuracy: 0.616200\n",
      "Epoch 38, CIFAR-10 Batch 4:  Loss:     0.8837 Validation Accuracy: 0.617800\n",
      "Epoch 38, CIFAR-10 Batch 5:  Loss:     0.9908 Validation Accuracy: 0.620600\n",
      "Epoch 39, CIFAR-10 Batch 1:  Loss:     0.9156 Validation Accuracy: 0.601800\n",
      "Epoch 39, CIFAR-10 Batch 2:  Loss:     0.8608 Validation Accuracy: 0.610000\n",
      "Epoch 39, CIFAR-10 Batch 3:  Loss:     0.9272 Validation Accuracy: 0.614000\n",
      "Epoch 39, CIFAR-10 Batch 4:  Loss:     0.9284 Validation Accuracy: 0.613600\n",
      "Epoch 39, CIFAR-10 Batch 5:  Loss:     0.9523 Validation Accuracy: 0.612600\n",
      "Epoch 40, CIFAR-10 Batch 1:  Loss:     0.9809 Validation Accuracy: 0.623800\n",
      "Epoch 40, CIFAR-10 Batch 2:  Loss:     0.8228 Validation Accuracy: 0.610800\n",
      "Epoch 40, CIFAR-10 Batch 3:  Loss:     0.8944 Validation Accuracy: 0.620600\n",
      "Epoch 40, CIFAR-10 Batch 4:  Loss:     0.9056 Validation Accuracy: 0.613200\n",
      "Epoch 40, CIFAR-10 Batch 5:  Loss:     0.9627 Validation Accuracy: 0.615600\n",
      "Epoch 41, CIFAR-10 Batch 1:  Loss:     0.9364 Validation Accuracy: 0.603000\n",
      "Epoch 41, CIFAR-10 Batch 2:  Loss:     0.9071 Validation Accuracy: 0.617200\n",
      "Epoch 41, CIFAR-10 Batch 3:  Loss:     0.8845 Validation Accuracy: 0.622000\n",
      "Epoch 41, CIFAR-10 Batch 4:  Loss:     0.9260 Validation Accuracy: 0.614200\n",
      "Epoch 41, CIFAR-10 Batch 5:  Loss:     0.9480 Validation Accuracy: 0.615400\n",
      "Epoch 42, CIFAR-10 Batch 1:  Loss:     0.9117 Validation Accuracy: 0.601000\n",
      "Epoch 42, CIFAR-10 Batch 2:  Loss:     0.8700 Validation Accuracy: 0.606800\n",
      "Epoch 42, CIFAR-10 Batch 3:  Loss:     0.9152 Validation Accuracy: 0.618400\n",
      "Epoch 42, CIFAR-10 Batch 4:  Loss:     0.9538 Validation Accuracy: 0.614200\n",
      "Epoch 42, CIFAR-10 Batch 5:  Loss:     0.9723 Validation Accuracy: 0.611400\n",
      "Epoch 43, CIFAR-10 Batch 1:  Loss:     0.9061 Validation Accuracy: 0.623000\n",
      "Epoch 43, CIFAR-10 Batch 2:  Loss:     0.8531 Validation Accuracy: 0.623800\n",
      "Epoch 43, CIFAR-10 Batch 3:  Loss:     0.8547 Validation Accuracy: 0.616000\n",
      "Epoch 43, CIFAR-10 Batch 4:  Loss:     0.9389 Validation Accuracy: 0.614200\n",
      "Epoch 43, CIFAR-10 Batch 5:  Loss:     0.9321 Validation Accuracy: 0.620200\n",
      "Epoch 44, CIFAR-10 Batch 1:  Loss:     0.9146 Validation Accuracy: 0.612800\n",
      "Epoch 44, CIFAR-10 Batch 2:  Loss:     0.8240 Validation Accuracy: 0.623200\n",
      "Epoch 44, CIFAR-10 Batch 3:  Loss:     0.8744 Validation Accuracy: 0.619800\n",
      "Epoch 44, CIFAR-10 Batch 4:  Loss:     0.9026 Validation Accuracy: 0.616000\n",
      "Epoch 44, CIFAR-10 Batch 5:  Loss:     0.9237 Validation Accuracy: 0.622800\n",
      "Epoch 45, CIFAR-10 Batch 1:  Loss:     0.8711 Validation Accuracy: 0.622600\n",
      "Epoch 45, CIFAR-10 Batch 2:  Loss:     0.8349 Validation Accuracy: 0.612800\n",
      "Epoch 45, CIFAR-10 Batch 3:  Loss:     0.9279 Validation Accuracy: 0.606200\n",
      "Epoch 45, CIFAR-10 Batch 4:  Loss:     0.8881 Validation Accuracy: 0.612400\n",
      "Epoch 45, CIFAR-10 Batch 5:  Loss:     0.9090 Validation Accuracy: 0.617200\n",
      "Epoch 46, CIFAR-10 Batch 1:  Loss:     0.8981 Validation Accuracy: 0.624600\n",
      "Epoch 46, CIFAR-10 Batch 2:  Loss:     0.8475 Validation Accuracy: 0.617600\n",
      "Epoch 46, CIFAR-10 Batch 3:  Loss:     0.9018 Validation Accuracy: 0.622000\n",
      "Epoch 46, CIFAR-10 Batch 4:  Loss:     0.9667 Validation Accuracy: 0.625200\n",
      "Epoch 46, CIFAR-10 Batch 5:  Loss:     0.9561 Validation Accuracy: 0.615400\n",
      "Epoch 47, CIFAR-10 Batch 1:  Loss:     0.8427 Validation Accuracy: 0.626400\n",
      "Epoch 47, CIFAR-10 Batch 2:  Loss:     0.8508 Validation Accuracy: 0.612200\n",
      "Epoch 47, CIFAR-10 Batch 3:  Loss:     0.8602 Validation Accuracy: 0.621800\n",
      "Epoch 47, CIFAR-10 Batch 4:  Loss:     0.9665 Validation Accuracy: 0.614400\n",
      "Epoch 47, CIFAR-10 Batch 5:  Loss:     0.9719 Validation Accuracy: 0.614200\n",
      "Epoch 48, CIFAR-10 Batch 1:  Loss:     0.8721 Validation Accuracy: 0.627400\n",
      "Epoch 48, CIFAR-10 Batch 2:  Loss:     0.8689 Validation Accuracy: 0.629000\n",
      "Epoch 48, CIFAR-10 Batch 3:  Loss:     0.9126 Validation Accuracy: 0.626800\n",
      "Epoch 48, CIFAR-10 Batch 4:  Loss:     0.9133 Validation Accuracy: 0.622800\n",
      "Epoch 48, CIFAR-10 Batch 5:  Loss:     0.9680 Validation Accuracy: 0.624000\n",
      "Epoch 49, CIFAR-10 Batch 1:  Loss:     0.8868 Validation Accuracy: 0.622600\n",
      "Epoch 49, CIFAR-10 Batch 2:  Loss:     0.8523 Validation Accuracy: 0.626200\n",
      "Epoch 49, CIFAR-10 Batch 3:  Loss:     0.8916 Validation Accuracy: 0.617600\n",
      "Epoch 49, CIFAR-10 Batch 4:  Loss:     0.9246 Validation Accuracy: 0.624800\n",
      "Epoch 49, CIFAR-10 Batch 5:  Loss:     0.9446 Validation Accuracy: 0.620400\n",
      "Epoch 50, CIFAR-10 Batch 1:  Loss:     0.9070 Validation Accuracy: 0.625200\n",
      "Epoch 50, CIFAR-10 Batch 2:  Loss:     0.8267 Validation Accuracy: 0.631600\n",
      "Epoch 50, CIFAR-10 Batch 3:  Loss:     0.8636 Validation Accuracy: 0.624400\n",
      "Epoch 50, CIFAR-10 Batch 4:  Loss:     0.9339 Validation Accuracy: 0.621400\n",
      "Epoch 50, CIFAR-10 Batch 5:  Loss:     0.8856 Validation Accuracy: 0.628800\n"
     ]
    }
   ],
   "source": [
    "\"\"\"\n",
    "DON'T MODIFY ANYTHING IN THIS CELL\n",
    "\"\"\"\n",
    "save_model_path = './image_classification'\n",
    "\n",
    "print('Training...')\n",
    "with tf.Session() as sess:\n",
    "    # Initializing the variables\n",
    "    sess.run(tf.global_variables_initializer())\n",
    "    \n",
    "    # Training cycle\n",
    "    for epoch in range(epochs):\n",
    "        # Loop over all batches\n",
    "        n_batches = 5\n",
    "        for batch_i in range(1, n_batches + 1):\n",
    "            for batch_features, batch_labels in helper.load_preprocess_training_batch(batch_i, batch_size):\n",
    "                train_neural_network(sess, optimizer, keep_probability, batch_features, batch_labels)\n",
    "            print('Epoch {:>2}, CIFAR-10 Batch {}:  '.format(epoch + 1, batch_i), end='')\n",
    "            print_stats(sess, batch_features, batch_labels, cost, accuracy)\n",
    "            \n",
    "    # Save Model\n",
    "    saver = tf.train.Saver()\n",
    "    save_path = saver.save(sess, save_model_path)"
   ]
  },
  {
   "cell_type": "markdown",
   "metadata": {
    "deletable": true,
    "editable": true
   },
   "source": [
    "# Checkpoint\n",
    "The model has been saved to disk.\n",
    "## Test Model\n",
    "Test your model against the test dataset.  This will be your final accuracy. You should have an accuracy greater than 50%. If you don't, keep tweaking the model architecture and parameters."
   ]
  },
  {
   "cell_type": "code",
   "execution_count": 28,
   "metadata": {
    "collapsed": false,
    "deletable": true,
    "editable": true
   },
   "outputs": [
    {
     "name": "stdout",
     "output_type": "stream",
     "text": [
      "Testing Accuracy: 0.6338014240506329\n",
      "\n"
     ]
    },
    {
     "data": {
      "image/png": "[encoded data removed]",
      "text/plain": [
       "<matplotlib.figure.Figure at 0x7f1f7a03f7f0>"
      ]
     },
     "metadata": {
      "image/png": {
       "height": 319.0,
       "width": 355.0
      }
     },
     "output_type": "display_data"
    }
   ],
   "source": [
    "\"\"\"\n",
    "DON'T MODIFY ANYTHING IN THIS CELL\n",
    "\"\"\"\n",
    "%matplotlib inline\n",
    "%config InlineBackend.figure_format = 'retina'\n",
    "\n",
    "import tensorflow as tf\n",
    "import pickle\n",
    "import helper\n",
    "import random\n",
    "\n",
    "# Set batch size if not already set\n",
    "try:\n",
    "    if batch_size:\n",
    "        pass\n",
    "except NameError:\n",
    "    batch_size = 64\n",
    "\n",
    "save_model_path = './image_classification'\n",
    "n_samples = 4\n",
    "top_n_predictions = 3\n",
    "\n",
    "def test_model():\n",
    "    \"\"\"\n",
    "    Test the saved model against the test dataset\n",
    "    \"\"\"\n",
    "\n",
    "    test_features, test_labels = pickle.load(open('preprocess_training.p', mode='rb'))\n",
    "    loaded_graph = tf.Graph()\n",
    "\n",
    "    with tf.Session(graph=loaded_graph) as sess:\n",
    "        # Load model\n",
    "        loader = tf.train.import_meta_graph(save_model_path + '.meta')\n",
    "        loader.restore(sess, save_model_path)\n",
    "\n",
    "        # Get Tensors from loaded model\n",
    "        loaded_x = loaded_graph.get_tensor_by_name('x:0')\n",
    "        loaded_y = loaded_graph.get_tensor_by_name('y:0')\n",
    "        loaded_keep_prob = loaded_graph.get_tensor_by_name('keep_prob:0')\n",
    "        loaded_logits = loaded_graph.get_tensor_by_name('logits:0')\n",
    "        loaded_acc = loaded_graph.get_tensor_by_name('accuracy:0')\n",
    "        \n",
    "        # Get accuracy in batches for memory limitations\n",
    "        test_batch_acc_total = 0\n",
    "        test_batch_count = 0\n",
    "        \n",
    "        for train_feature_batch, train_label_batch in helper.batch_features_labels(test_features, test_labels, batch_size):\n",
    "            test_batch_acc_total += sess.run(\n",
    "                loaded_acc,\n",
    "                feed_dict={loaded_x: train_feature_batch, loaded_y: train_label_batch, loaded_keep_prob: 1.0})\n",
    "            test_batch_count += 1\n",
    "\n",
    "        print('Testing Accuracy: {}\\n'.format(test_batch_acc_total/test_batch_count))\n",
    "\n",
    "        # Print Random Samples\n",
    "        random_test_features, random_test_labels = tuple(zip(*random.sample(list(zip(test_features, test_labels)), n_samples)))\n",
    "        random_test_predictions = sess.run(\n",
    "            tf.nn.top_k(tf.nn.softmax(loaded_logits), top_n_predictions),\n",
    "            feed_dict={loaded_x: random_test_features, loaded_y: random_test_labels, loaded_keep_prob: 1.0})\n",
    "        helper.display_image_predictions(random_test_features, random_test_labels, random_test_predictions)\n",
    "\n",
    "\n",
    "test_model()"
   ]
  },
  {
   "cell_type": "markdown",
   "metadata": {
    "deletable": true,
    "editable": true
   },
   "source": [
    "## Why 50-70% Accuracy?\n",
    "You might be wondering why you can't get an accuracy any higher. First things first, 50% isn't bad for a simple CNN.  Pure guessing would get you 10% accuracy. However, you might notice people are getting scores [well above 70%](http://rodrigob.github.io/are_we_there_yet/build/classification_datasets_results.html#43494641522d3130).  That's because we haven't taught you all there is to know about neural networks. We still need to cover a few more techniques.\n",
    "## Submitting This Project\n",
    "When submitting this project, make sure to run all the cells before saving the notebook.  Save the notebook file as \"dlnd_image_classification.ipynb\" and save it as a HTML file under \"File\" -> \"Download as\".  Include the \"helper.py\" and \"problem_unittests.py\" files in your submission."
   ]
  }
 ],
 "metadata": {
  "kernelspec": {
   "display_name": "Python 3",
   "language": "python",
   "name": "python3"
  },
  "language_info": {
   "codemirror_mode": {
    "name": "ipython",
    "version": 3.0
   },
   "file_extension": ".py",
   "mimetype": "text/x-python",
   "name": "python",
   "nbconvert_exporter": "python",
   "pygments_lexer": "ipython3",
   "version": "3.5.2"
  },
  "widgets": {
   "state": {},
   "version": "1.1.2"
  }
 },
 "nbformat": 4,
 "nbformat_minor": 0
}